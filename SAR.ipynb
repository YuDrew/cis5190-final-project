{
 "cells": [
  {
   "cell_type": "markdown",
   "id": "453a1f98-d703-46dd-9f27-c9c4d634b79a",
   "metadata": {},
   "source": [
    "# SAR"
   ]
  },
  {
   "cell_type": "code",
   "execution_count": 92,
   "id": "e0b0f0ec-6e8d-4fa5-8592-a4a797f1e74c",
   "metadata": {
    "tags": []
   },
   "outputs": [],
   "source": [
    "%%capture\n",
    "import sys\n",
    "\n",
    "import itertools\n",
    "import logging\n",
    "import os\n",
    "\n",
    "import numpy as np\n",
    "import pandas as pd\n",
    "!pip install papermill\n",
    "import papermill as pm\n",
    "\n",
    "from recommenders.datasets import movielens\n",
    "from recommenders.datasets.python_splitters import python_stratified_split\n",
    "from recommenders.evaluation.python_evaluation import map_at_k, ndcg_at_k, precision_at_k, recall_at_k\n",
    "from recommenders.models.sar import SAR\n",
    "\n",
    "print(\"System version: {}\".format(sys.version))\n",
    "print(\"Pandas version: {}\".format(pd.__version__))"
   ]
  },
  {
   "cell_type": "code",
   "execution_count": 93,
   "id": "d3d62631-cd37-4801-84c1-dde6b34512ed",
   "metadata": {
    "tags": []
   },
   "outputs": [],
   "source": [
    "TOP_K = 10"
   ]
  },
  {
   "cell_type": "code",
   "execution_count": 94,
   "id": "fdb2ecf0-564b-44cf-8513-cb1a5dc6717e",
   "metadata": {
    "tags": []
   },
   "outputs": [
    {
     "data": {
      "text/html": [
       "<div>\n",
       "<style scoped>\n",
       "    .dataframe tbody tr th:only-of-type {\n",
       "        vertical-align: middle;\n",
       "    }\n",
       "\n",
       "    .dataframe tbody tr th {\n",
       "        vertical-align: top;\n",
       "    }\n",
       "\n",
       "    .dataframe thead th {\n",
       "        text-align: right;\n",
       "    }\n",
       "</style>\n",
       "<table border=\"1\" class=\"dataframe\">\n",
       "  <thead>\n",
       "    <tr style=\"text-align: right;\">\n",
       "      <th></th>\n",
       "      <th>userId</th>\n",
       "      <th>productId</th>\n",
       "      <th>rating</th>\n",
       "      <th>timestamp</th>\n",
       "    </tr>\n",
       "  </thead>\n",
       "  <tbody>\n",
       "    <tr>\n",
       "      <th>0</th>\n",
       "      <td>AKM1MP6P0OYPR</td>\n",
       "      <td>0132793040</td>\n",
       "      <td>5.0</td>\n",
       "      <td>1365811200</td>\n",
       "    </tr>\n",
       "    <tr>\n",
       "      <th>1</th>\n",
       "      <td>A2CX7LUOHB2NDG</td>\n",
       "      <td>0321732944</td>\n",
       "      <td>5.0</td>\n",
       "      <td>1341100800</td>\n",
       "    </tr>\n",
       "    <tr>\n",
       "      <th>2</th>\n",
       "      <td>A2NWSAGRHCP8N5</td>\n",
       "      <td>0439886341</td>\n",
       "      <td>1.0</td>\n",
       "      <td>1367193600</td>\n",
       "    </tr>\n",
       "    <tr>\n",
       "      <th>3</th>\n",
       "      <td>A2WNBOD3WNDNKT</td>\n",
       "      <td>0439886341</td>\n",
       "      <td>3.0</td>\n",
       "      <td>1374451200</td>\n",
       "    </tr>\n",
       "    <tr>\n",
       "      <th>4</th>\n",
       "      <td>A1GI0U4ZRJA8WN</td>\n",
       "      <td>0439886341</td>\n",
       "      <td>1.0</td>\n",
       "      <td>1334707200</td>\n",
       "    </tr>\n",
       "    <tr>\n",
       "      <th>...</th>\n",
       "      <td>...</td>\n",
       "      <td>...</td>\n",
       "      <td>...</td>\n",
       "      <td>...</td>\n",
       "    </tr>\n",
       "    <tr>\n",
       "      <th>7824477</th>\n",
       "      <td>A2YZI3C9MOHC0L</td>\n",
       "      <td>BT008UKTMW</td>\n",
       "      <td>5.0</td>\n",
       "      <td>1396569600</td>\n",
       "    </tr>\n",
       "    <tr>\n",
       "      <th>7824478</th>\n",
       "      <td>A322MDK0M89RHN</td>\n",
       "      <td>BT008UKTMW</td>\n",
       "      <td>5.0</td>\n",
       "      <td>1313366400</td>\n",
       "    </tr>\n",
       "    <tr>\n",
       "      <th>7824479</th>\n",
       "      <td>A1MH90R0ADMIK0</td>\n",
       "      <td>BT008UKTMW</td>\n",
       "      <td>4.0</td>\n",
       "      <td>1404172800</td>\n",
       "    </tr>\n",
       "    <tr>\n",
       "      <th>7824480</th>\n",
       "      <td>A10M2KEFPEQDHN</td>\n",
       "      <td>BT008UKTMW</td>\n",
       "      <td>4.0</td>\n",
       "      <td>1297555200</td>\n",
       "    </tr>\n",
       "    <tr>\n",
       "      <th>7824481</th>\n",
       "      <td>A2G81TMIOIDEQQ</td>\n",
       "      <td>BT008V9J9U</td>\n",
       "      <td>5.0</td>\n",
       "      <td>1312675200</td>\n",
       "    </tr>\n",
       "  </tbody>\n",
       "</table>\n",
       "<p>7824482 rows × 4 columns</p>\n",
       "</div>"
      ],
      "text/plain": [
       "                 userId   productId  rating   timestamp\n",
       "0         AKM1MP6P0OYPR  0132793040     5.0  1365811200\n",
       "1        A2CX7LUOHB2NDG  0321732944     5.0  1341100800\n",
       "2        A2NWSAGRHCP8N5  0439886341     1.0  1367193600\n",
       "3        A2WNBOD3WNDNKT  0439886341     3.0  1374451200\n",
       "4        A1GI0U4ZRJA8WN  0439886341     1.0  1334707200\n",
       "...                 ...         ...     ...         ...\n",
       "7824477  A2YZI3C9MOHC0L  BT008UKTMW     5.0  1396569600\n",
       "7824478  A322MDK0M89RHN  BT008UKTMW     5.0  1313366400\n",
       "7824479  A1MH90R0ADMIK0  BT008UKTMW     4.0  1404172800\n",
       "7824480  A10M2KEFPEQDHN  BT008UKTMW     4.0  1297555200\n",
       "7824481  A2G81TMIOIDEQQ  BT008V9J9U     5.0  1312675200\n",
       "\n",
       "[7824482 rows x 4 columns]"
      ]
     },
     "execution_count": 94,
     "metadata": {},
     "output_type": "execute_result"
    }
   ],
   "source": [
    "path = \"https://5190-hav-recommendation-data.s3.us-east-1.amazonaws.com/ratings_Electronics.csv\"\n",
    "data = pd.read_csv(path, header=None)\n",
    "\n",
    "data.columns = ['userId', 'productId', 'rating', 'timestamp']\n",
    "data\n",
    "#takes 10s or so"
   ]
  },
  {
   "cell_type": "code",
   "execution_count": 95,
   "id": "841cb7e2-bc49-49d6-80cd-ebb2f618f0a3",
   "metadata": {
    "tags": []
   },
   "outputs": [],
   "source": [
    "header = {\n",
    "    \"col_user\": \"userId\",\n",
    "    \"col_item\": \"productId\",\n",
    "    \"col_rating\": \"rating\",\n",
    "    \"col_timestamp\": \"timestamp\",\n",
    "    \"col_prediction\": \"prediction\",\n",
    "}"
   ]
  },
  {
   "cell_type": "code",
   "execution_count": 96,
   "id": "c377babf-c0f5-41fb-a65f-1d9c11d2909b",
   "metadata": {
    "tags": []
   },
   "outputs": [],
   "source": [
    "data.sort_values(by=['timestamp'],inplace=True)"
   ]
  },
  {
   "cell_type": "code",
   "execution_count": null,
   "id": "e58cd10a-f40e-45ab-b5f1-872ff9a07c6e",
   "metadata": {},
   "outputs": [],
   "source": [
    "data"
   ]
  },
  {
   "cell_type": "code",
   "execution_count": 97,
   "id": "7df59505-39f7-4a40-aa72-d26f2f81242f",
   "metadata": {
    "tags": []
   },
   "outputs": [
    {
     "name": "stdout",
     "output_type": "stream",
     "text": [
      "(125871, 5)\n"
     ]
    },
    {
     "data": {
      "text/html": [
       "<div>\n",
       "<style scoped>\n",
       "    .dataframe tbody tr th:only-of-type {\n",
       "        vertical-align: middle;\n",
       "    }\n",
       "\n",
       "    .dataframe tbody tr th {\n",
       "        vertical-align: top;\n",
       "    }\n",
       "\n",
       "    .dataframe thead th {\n",
       "        text-align: right;\n",
       "    }\n",
       "</style>\n",
       "<table border=\"1\" class=\"dataframe\">\n",
       "  <thead>\n",
       "    <tr style=\"text-align: right;\">\n",
       "      <th></th>\n",
       "      <th>userId</th>\n",
       "      <th>productId</th>\n",
       "      <th>rating</th>\n",
       "      <th>timestamp</th>\n",
       "      <th>user_rating_count</th>\n",
       "    </tr>\n",
       "  </thead>\n",
       "  <tbody>\n",
       "    <tr>\n",
       "      <th>12866</th>\n",
       "      <td>A335QXPTV1RIV1</td>\n",
       "      <td>B00000J4FS</td>\n",
       "      <td>5.0</td>\n",
       "      <td>939600000</td>\n",
       "      <td>55</td>\n",
       "    </tr>\n",
       "    <tr>\n",
       "      <th>537820</th>\n",
       "      <td>A335QXPTV1RIV1</td>\n",
       "      <td>B00063ZVJQ</td>\n",
       "      <td>4.0</td>\n",
       "      <td>1136073600</td>\n",
       "      <td>55</td>\n",
       "    </tr>\n",
       "    <tr>\n",
       "      <th>1032120</th>\n",
       "      <td>A335QXPTV1RIV1</td>\n",
       "      <td>B000I68BD4</td>\n",
       "      <td>2.0</td>\n",
       "      <td>1175126400</td>\n",
       "      <td>55</td>\n",
       "    </tr>\n",
       "    <tr>\n",
       "      <th>196941</th>\n",
       "      <td>A335QXPTV1RIV1</td>\n",
       "      <td>B00006IS50</td>\n",
       "      <td>4.0</td>\n",
       "      <td>1175126400</td>\n",
       "      <td>55</td>\n",
       "    </tr>\n",
       "    <tr>\n",
       "      <th>879844</th>\n",
       "      <td>A335QXPTV1RIV1</td>\n",
       "      <td>B000ET7AZK</td>\n",
       "      <td>5.0</td>\n",
       "      <td>1193702400</td>\n",
       "      <td>55</td>\n",
       "    </tr>\n",
       "  </tbody>\n",
       "</table>\n",
       "</div>"
      ],
      "text/plain": [
       "                 userId   productId  rating   timestamp  user_rating_count\n",
       "12866    A335QXPTV1RIV1  B00000J4FS     5.0   939600000                 55\n",
       "537820   A335QXPTV1RIV1  B00063ZVJQ     4.0  1136073600                 55\n",
       "1032120  A335QXPTV1RIV1  B000I68BD4     2.0  1175126400                 55\n",
       "196941   A335QXPTV1RIV1  B00006IS50     4.0  1175126400                 55\n",
       "879844   A335QXPTV1RIV1  B000ET7AZK     5.0  1193702400                 55"
      ]
     },
     "execution_count": 97,
     "metadata": {},
     "output_type": "execute_result"
    }
   ],
   "source": [
    "user_rating_count = data['userId'].value_counts().rename('user_rating_count')\n",
    "augmented_amazon_data = data.merge(user_rating_count.to_frame(), left_on='userId', right_index=True)\n",
    "subset_df = augmented_amazon_data[augmented_amazon_data.user_rating_count >= 50]\n",
    "print(subset_df.shape)\n",
    "subset_df.head()\n",
    "#10s"
   ]
  },
  {
   "cell_type": "code",
   "execution_count": 98,
   "id": "89a99bdb-b365-4dad-bd72-b40367c05275",
   "metadata": {
    "tags": []
   },
   "outputs": [
    {
     "data": {
      "text/html": [
       "<div>\n",
       "<style scoped>\n",
       "    .dataframe tbody tr th:only-of-type {\n",
       "        vertical-align: middle;\n",
       "    }\n",
       "\n",
       "    .dataframe tbody tr th {\n",
       "        vertical-align: top;\n",
       "    }\n",
       "\n",
       "    .dataframe thead th {\n",
       "        text-align: right;\n",
       "    }\n",
       "</style>\n",
       "<table border=\"1\" class=\"dataframe\">\n",
       "  <thead>\n",
       "    <tr style=\"text-align: right;\">\n",
       "      <th></th>\n",
       "      <th>userId</th>\n",
       "      <th>productId</th>\n",
       "      <th>rating</th>\n",
       "      <th>timestamp</th>\n",
       "      <th>user_rating_count</th>\n",
       "      <th>product_rating_counts</th>\n",
       "    </tr>\n",
       "  </thead>\n",
       "  <tbody>\n",
       "    <tr>\n",
       "      <th>1032120</th>\n",
       "      <td>A335QXPTV1RIV1</td>\n",
       "      <td>B000I68BD4</td>\n",
       "      <td>2.0</td>\n",
       "      <td>1175126400</td>\n",
       "      <td>55</td>\n",
       "      <td>27</td>\n",
       "    </tr>\n",
       "    <tr>\n",
       "      <th>1035226</th>\n",
       "      <td>AT28RL25Q2OLK</td>\n",
       "      <td>B000I68BD4</td>\n",
       "      <td>5.0</td>\n",
       "      <td>1261958400</td>\n",
       "      <td>198</td>\n",
       "      <td>27</td>\n",
       "    </tr>\n",
       "    <tr>\n",
       "      <th>1034971</th>\n",
       "      <td>A3NCIN6TNL0MGA</td>\n",
       "      <td>B000I68BD4</td>\n",
       "      <td>4.0</td>\n",
       "      <td>1165017600</td>\n",
       "      <td>87</td>\n",
       "      <td>27</td>\n",
       "    </tr>\n",
       "    <tr>\n",
       "      <th>1032939</th>\n",
       "      <td>A1OMXVXXP07F05</td>\n",
       "      <td>B000I68BD4</td>\n",
       "      <td>4.0</td>\n",
       "      <td>1167955200</td>\n",
       "      <td>95</td>\n",
       "      <td>27</td>\n",
       "    </tr>\n",
       "    <tr>\n",
       "      <th>1032697</th>\n",
       "      <td>A10ZFE6YE0UHW8</td>\n",
       "      <td>B000I68BD4</td>\n",
       "      <td>4.0</td>\n",
       "      <td>1280707200</td>\n",
       "      <td>130</td>\n",
       "      <td>27</td>\n",
       "    </tr>\n",
       "  </tbody>\n",
       "</table>\n",
       "</div>"
      ],
      "text/plain": [
       "                 userId   productId  rating   timestamp  user_rating_count  \\\n",
       "1032120  A335QXPTV1RIV1  B000I68BD4     2.0  1175126400                 55   \n",
       "1035226   AT28RL25Q2OLK  B000I68BD4     5.0  1261958400                198   \n",
       "1034971  A3NCIN6TNL0MGA  B000I68BD4     4.0  1165017600                 87   \n",
       "1032939  A1OMXVXXP07F05  B000I68BD4     4.0  1167955200                 95   \n",
       "1032697  A10ZFE6YE0UHW8  B000I68BD4     4.0  1280707200                130   \n",
       "\n",
       "         product_rating_counts  \n",
       "1032120                     27  \n",
       "1035226                     27  \n",
       "1034971                     27  \n",
       "1032939                     27  \n",
       "1032697                     27  "
      ]
     },
     "execution_count": 98,
     "metadata": {},
     "output_type": "execute_result"
    }
   ],
   "source": [
    "product_rating_counts = subset_df['productId'].value_counts().rename('product_rating_counts')\n",
    "product_rating_data   = subset_df.merge(product_rating_counts.to_frame(),\n",
    "                                left_on='productId',\n",
    "                                right_index=True)\n",
    "product_rating_data = product_rating_data[product_rating_data.product_rating_counts >= 10]\n",
    "product_rating_data.head()"
   ]
  },
  {
   "cell_type": "code",
   "execution_count": 99,
   "id": "44c5682e-2c75-4e0b-bc11-ecdc226d743d",
   "metadata": {
    "tags": []
   },
   "outputs": [],
   "source": [
    "data=product_rating_data"
   ]
  },
  {
   "cell_type": "code",
   "execution_count": 100,
   "id": "82248389-edeb-4710-a2e3-08e1f6a3c9f3",
   "metadata": {
    "tags": []
   },
   "outputs": [],
   "source": [
    "data.drop(columns=['user_rating_count','product_rating_counts'],inplace=True)"
   ]
  },
  {
   "cell_type": "code",
   "execution_count": 101,
   "id": "06dfcf90-6702-44cf-be79-2ff0e5c20c24",
   "metadata": {
    "tags": []
   },
   "outputs": [
    {
     "data": {
      "text/html": [
       "<div>\n",
       "<style scoped>\n",
       "    .dataframe tbody tr th:only-of-type {\n",
       "        vertical-align: middle;\n",
       "    }\n",
       "\n",
       "    .dataframe tbody tr th {\n",
       "        vertical-align: top;\n",
       "    }\n",
       "\n",
       "    .dataframe thead th {\n",
       "        text-align: right;\n",
       "    }\n",
       "</style>\n",
       "<table border=\"1\" class=\"dataframe\">\n",
       "  <thead>\n",
       "    <tr style=\"text-align: right;\">\n",
       "      <th></th>\n",
       "      <th>userId</th>\n",
       "      <th>productId</th>\n",
       "      <th>rating</th>\n",
       "      <th>timestamp</th>\n",
       "    </tr>\n",
       "  </thead>\n",
       "  <tbody>\n",
       "    <tr>\n",
       "      <th>1032120</th>\n",
       "      <td>A335QXPTV1RIV1</td>\n",
       "      <td>B000I68BD4</td>\n",
       "      <td>2.0</td>\n",
       "      <td>1175126400</td>\n",
       "    </tr>\n",
       "    <tr>\n",
       "      <th>1035226</th>\n",
       "      <td>AT28RL25Q2OLK</td>\n",
       "      <td>B000I68BD4</td>\n",
       "      <td>5.0</td>\n",
       "      <td>1261958400</td>\n",
       "    </tr>\n",
       "    <tr>\n",
       "      <th>1034971</th>\n",
       "      <td>A3NCIN6TNL0MGA</td>\n",
       "      <td>B000I68BD4</td>\n",
       "      <td>4.0</td>\n",
       "      <td>1165017600</td>\n",
       "    </tr>\n",
       "    <tr>\n",
       "      <th>1032939</th>\n",
       "      <td>A1OMXVXXP07F05</td>\n",
       "      <td>B000I68BD4</td>\n",
       "      <td>4.0</td>\n",
       "      <td>1167955200</td>\n",
       "    </tr>\n",
       "    <tr>\n",
       "      <th>1032697</th>\n",
       "      <td>A10ZFE6YE0UHW8</td>\n",
       "      <td>B000I68BD4</td>\n",
       "      <td>4.0</td>\n",
       "      <td>1280707200</td>\n",
       "    </tr>\n",
       "    <tr>\n",
       "      <th>...</th>\n",
       "      <td>...</td>\n",
       "      <td>...</td>\n",
       "      <td>...</td>\n",
       "      <td>...</td>\n",
       "    </tr>\n",
       "    <tr>\n",
       "      <th>5903140</th>\n",
       "      <td>A3GX0FAMEXV6FB</td>\n",
       "      <td>B007SZ0E1K</td>\n",
       "      <td>5.0</td>\n",
       "      <td>1384387200</td>\n",
       "    </tr>\n",
       "    <tr>\n",
       "      <th>5903113</th>\n",
       "      <td>A362FM6FYA1SYS</td>\n",
       "      <td>B007SZ0E1K</td>\n",
       "      <td>5.0</td>\n",
       "      <td>1370563200</td>\n",
       "    </tr>\n",
       "    <tr>\n",
       "      <th>5902871</th>\n",
       "      <td>A3PDWA32BAMB2Y</td>\n",
       "      <td>B007SZ0E1K</td>\n",
       "      <td>5.0</td>\n",
       "      <td>1389225600</td>\n",
       "    </tr>\n",
       "    <tr>\n",
       "      <th>5903261</th>\n",
       "      <td>AEIB3UR05OP7A</td>\n",
       "      <td>B007SZ0E1K</td>\n",
       "      <td>5.0</td>\n",
       "      <td>1392163200</td>\n",
       "    </tr>\n",
       "    <tr>\n",
       "      <th>5903088</th>\n",
       "      <td>A3FEJ8H2VTN0OJ</td>\n",
       "      <td>B007SZ0E1K</td>\n",
       "      <td>5.0</td>\n",
       "      <td>1389830400</td>\n",
       "    </tr>\n",
       "  </tbody>\n",
       "</table>\n",
       "<p>42941 rows × 4 columns</p>\n",
       "</div>"
      ],
      "text/plain": [
       "                 userId   productId  rating   timestamp\n",
       "1032120  A335QXPTV1RIV1  B000I68BD4     2.0  1175126400\n",
       "1035226   AT28RL25Q2OLK  B000I68BD4     5.0  1261958400\n",
       "1034971  A3NCIN6TNL0MGA  B000I68BD4     4.0  1165017600\n",
       "1032939  A1OMXVXXP07F05  B000I68BD4     4.0  1167955200\n",
       "1032697  A10ZFE6YE0UHW8  B000I68BD4     4.0  1280707200\n",
       "...                 ...         ...     ...         ...\n",
       "5903140  A3GX0FAMEXV6FB  B007SZ0E1K     5.0  1384387200\n",
       "5903113  A362FM6FYA1SYS  B007SZ0E1K     5.0  1370563200\n",
       "5902871  A3PDWA32BAMB2Y  B007SZ0E1K     5.0  1389225600\n",
       "5903261   AEIB3UR05OP7A  B007SZ0E1K     5.0  1392163200\n",
       "5903088  A3FEJ8H2VTN0OJ  B007SZ0E1K     5.0  1389830400\n",
       "\n",
       "[42941 rows x 4 columns]"
      ]
     },
     "execution_count": 101,
     "metadata": {},
     "output_type": "execute_result"
    }
   ],
   "source": [
    "data"
   ]
  },
  {
   "cell_type": "code",
   "execution_count": 102,
   "id": "c2c5b190-205f-476f-b9b5-f7ae0fdd6e71",
   "metadata": {
    "tags": []
   },
   "outputs": [],
   "source": [
    "data.sort_values(by=['timestamp'],inplace=True)"
   ]
  },
  {
   "cell_type": "code",
   "execution_count": 103,
   "id": "3ac27099-8628-4c99-bb0d-d92725cfec93",
   "metadata": {
    "tags": []
   },
   "outputs": [],
   "source": [
    "ind=pd.DataFrame(data.userId.unique())\n",
    "ind['index']=range(1, len(ind) + 1)\n",
    "ind.rename(columns={0:'userId'},inplace=True)\n",
    "ind\n",
    "#data.join(ind,on='userId')\n",
    "data=data.merge(ind,left_on='userId',right_on='userId')\n",
    "data.drop(columns=['userId'],inplace=True)\n",
    "data.rename(columns={'index':'userId'},inplace=True)"
   ]
  },
  {
   "cell_type": "code",
   "execution_count": 104,
   "id": "30138fea-6877-45d2-b079-04091ad2ffac",
   "metadata": {
    "tags": []
   },
   "outputs": [],
   "source": [
    "ind=pd.DataFrame(data.productId.unique())\n",
    "ind['index']=range(1, len(ind) + 1)\n",
    "ind.rename(columns={0:'productId'},inplace=True)\n",
    "\n",
    "\n",
    "data=data.merge(ind,left_on='productId',right_on='productId')\n",
    "data.drop(columns=['productId'],inplace=True)\n",
    "data.rename(columns={'index':'productId'},inplace=True)\n",
    "#data.join(ind,on='userId')"
   ]
  },
  {
   "cell_type": "code",
   "execution_count": 105,
   "id": "b191a736-3d2e-43f7-afdc-f3077b81ec54",
   "metadata": {
    "tags": []
   },
   "outputs": [
    {
     "data": {
      "text/html": [
       "<div>\n",
       "<style scoped>\n",
       "    .dataframe tbody tr th:only-of-type {\n",
       "        vertical-align: middle;\n",
       "    }\n",
       "\n",
       "    .dataframe tbody tr th {\n",
       "        vertical-align: top;\n",
       "    }\n",
       "\n",
       "    .dataframe thead th {\n",
       "        text-align: right;\n",
       "    }\n",
       "</style>\n",
       "<table border=\"1\" class=\"dataframe\">\n",
       "  <thead>\n",
       "    <tr style=\"text-align: right;\">\n",
       "      <th></th>\n",
       "      <th>userId</th>\n",
       "      <th>productId</th>\n",
       "      <th>rating</th>\n",
       "      <th>timestamp</th>\n",
       "    </tr>\n",
       "  </thead>\n",
       "  <tbody>\n",
       "    <tr>\n",
       "      <th>0</th>\n",
       "      <td>1</td>\n",
       "      <td>1</td>\n",
       "      <td>5.0</td>\n",
       "      <td>956966400</td>\n",
       "    </tr>\n",
       "    <tr>\n",
       "      <th>1</th>\n",
       "      <td>2</td>\n",
       "      <td>1</td>\n",
       "      <td>5.0</td>\n",
       "      <td>961200000</td>\n",
       "    </tr>\n",
       "    <tr>\n",
       "      <th>2</th>\n",
       "      <td>4</td>\n",
       "      <td>1</td>\n",
       "      <td>1.0</td>\n",
       "      <td>965347200</td>\n",
       "    </tr>\n",
       "    <tr>\n",
       "      <th>3</th>\n",
       "      <td>6</td>\n",
       "      <td>1</td>\n",
       "      <td>4.0</td>\n",
       "      <td>994204800</td>\n",
       "    </tr>\n",
       "    <tr>\n",
       "      <th>4</th>\n",
       "      <td>7</td>\n",
       "      <td>1</td>\n",
       "      <td>5.0</td>\n",
       "      <td>1006387200</td>\n",
       "    </tr>\n",
       "    <tr>\n",
       "      <th>...</th>\n",
       "      <td>...</td>\n",
       "      <td>...</td>\n",
       "      <td>...</td>\n",
       "      <td>...</td>\n",
       "    </tr>\n",
       "    <tr>\n",
       "      <th>42936</th>\n",
       "      <td>1216</td>\n",
       "      <td>2263</td>\n",
       "      <td>5.0</td>\n",
       "      <td>1315785600</td>\n",
       "    </tr>\n",
       "    <tr>\n",
       "      <th>42937</th>\n",
       "      <td>1246</td>\n",
       "      <td>2263</td>\n",
       "      <td>4.0</td>\n",
       "      <td>1341792000</td>\n",
       "    </tr>\n",
       "    <tr>\n",
       "      <th>42938</th>\n",
       "      <td>1301</td>\n",
       "      <td>2263</td>\n",
       "      <td>2.0</td>\n",
       "      <td>1338076800</td>\n",
       "    </tr>\n",
       "    <tr>\n",
       "      <th>42939</th>\n",
       "      <td>1346</td>\n",
       "      <td>2263</td>\n",
       "      <td>5.0</td>\n",
       "      <td>1339027200</td>\n",
       "    </tr>\n",
       "    <tr>\n",
       "      <th>42940</th>\n",
       "      <td>1403</td>\n",
       "      <td>2263</td>\n",
       "      <td>5.0</td>\n",
       "      <td>1355097600</td>\n",
       "    </tr>\n",
       "  </tbody>\n",
       "</table>\n",
       "<p>42941 rows × 4 columns</p>\n",
       "</div>"
      ],
      "text/plain": [
       "       userId  productId  rating   timestamp\n",
       "0           1          1     5.0   956966400\n",
       "1           2          1     5.0   961200000\n",
       "2           4          1     1.0   965347200\n",
       "3           6          1     4.0   994204800\n",
       "4           7          1     5.0  1006387200\n",
       "...       ...        ...     ...         ...\n",
       "42936    1216       2263     5.0  1315785600\n",
       "42937    1246       2263     4.0  1341792000\n",
       "42938    1301       2263     2.0  1338076800\n",
       "42939    1346       2263     5.0  1339027200\n",
       "42940    1403       2263     5.0  1355097600\n",
       "\n",
       "[42941 rows x 4 columns]"
      ]
     },
     "execution_count": 105,
     "metadata": {},
     "output_type": "execute_result"
    }
   ],
   "source": [
    "data=data[['userId','productId','rating','timestamp']]\n",
    "data"
   ]
  },
  {
   "cell_type": "code",
   "execution_count": 113,
   "id": "6dc3d766-5c55-40b6-aa67-770a869027f0",
   "metadata": {
    "tags": []
   },
   "outputs": [
    {
     "data": {
      "text/html": [
       "<div>\n",
       "<style scoped>\n",
       "    .dataframe tbody tr th:only-of-type {\n",
       "        vertical-align: middle;\n",
       "    }\n",
       "\n",
       "    .dataframe tbody tr th {\n",
       "        vertical-align: top;\n",
       "    }\n",
       "\n",
       "    .dataframe thead th {\n",
       "        text-align: right;\n",
       "    }\n",
       "</style>\n",
       "<table border=\"1\" class=\"dataframe\">\n",
       "  <thead>\n",
       "    <tr style=\"text-align: right;\">\n",
       "      <th></th>\n",
       "      <th>userId</th>\n",
       "      <th>productId</th>\n",
       "      <th>rating</th>\n",
       "      <th>timestamp</th>\n",
       "    </tr>\n",
       "  </thead>\n",
       "  <tbody>\n",
       "    <tr>\n",
       "      <th>21470</th>\n",
       "      <td>447</td>\n",
       "      <td>932</td>\n",
       "      <td>4.0</td>\n",
       "      <td>1369785600</td>\n",
       "    </tr>\n",
       "    <tr>\n",
       "      <th>21471</th>\n",
       "      <td>508</td>\n",
       "      <td>932</td>\n",
       "      <td>5.0</td>\n",
       "      <td>1370476800</td>\n",
       "    </tr>\n",
       "    <tr>\n",
       "      <th>21472</th>\n",
       "      <td>625</td>\n",
       "      <td>932</td>\n",
       "      <td>4.0</td>\n",
       "      <td>1377907200</td>\n",
       "    </tr>\n",
       "    <tr>\n",
       "      <th>21473</th>\n",
       "      <td>666</td>\n",
       "      <td>932</td>\n",
       "      <td>5.0</td>\n",
       "      <td>1372291200</td>\n",
       "    </tr>\n",
       "    <tr>\n",
       "      <th>21474</th>\n",
       "      <td>848</td>\n",
       "      <td>932</td>\n",
       "      <td>4.0</td>\n",
       "      <td>1369785600</td>\n",
       "    </tr>\n",
       "    <tr>\n",
       "      <th>...</th>\n",
       "      <td>...</td>\n",
       "      <td>...</td>\n",
       "      <td>...</td>\n",
       "      <td>...</td>\n",
       "    </tr>\n",
       "    <tr>\n",
       "      <th>42936</th>\n",
       "      <td>1216</td>\n",
       "      <td>2263</td>\n",
       "      <td>5.0</td>\n",
       "      <td>1315785600</td>\n",
       "    </tr>\n",
       "    <tr>\n",
       "      <th>42937</th>\n",
       "      <td>1246</td>\n",
       "      <td>2263</td>\n",
       "      <td>4.0</td>\n",
       "      <td>1341792000</td>\n",
       "    </tr>\n",
       "    <tr>\n",
       "      <th>42938</th>\n",
       "      <td>1301</td>\n",
       "      <td>2263</td>\n",
       "      <td>2.0</td>\n",
       "      <td>1338076800</td>\n",
       "    </tr>\n",
       "    <tr>\n",
       "      <th>42939</th>\n",
       "      <td>1346</td>\n",
       "      <td>2263</td>\n",
       "      <td>5.0</td>\n",
       "      <td>1339027200</td>\n",
       "    </tr>\n",
       "    <tr>\n",
       "      <th>42940</th>\n",
       "      <td>1403</td>\n",
       "      <td>2263</td>\n",
       "      <td>5.0</td>\n",
       "      <td>1355097600</td>\n",
       "    </tr>\n",
       "  </tbody>\n",
       "</table>\n",
       "<p>21471 rows × 4 columns</p>\n",
       "</div>"
      ],
      "text/plain": [
       "       userId  productId  rating   timestamp\n",
       "21470     447        932     4.0  1369785600\n",
       "21471     508        932     5.0  1370476800\n",
       "21472     625        932     4.0  1377907200\n",
       "21473     666        932     5.0  1372291200\n",
       "21474     848        932     4.0  1369785600\n",
       "...       ...        ...     ...         ...\n",
       "42936    1216       2263     5.0  1315785600\n",
       "42937    1246       2263     4.0  1341792000\n",
       "42938    1301       2263     2.0  1338076800\n",
       "42939    1346       2263     5.0  1339027200\n",
       "42940    1403       2263     5.0  1355097600\n",
       "\n",
       "[21471 rows x 4 columns]"
      ]
     },
     "execution_count": 113,
     "metadata": {},
     "output_type": "execute_result"
    }
   ],
   "source": [
    "late_df"
   ]
  },
  {
   "cell_type": "code",
   "execution_count": 110,
   "id": "35f239ee-854e-4955-97c3-685abf82a1f2",
   "metadata": {
    "tags": []
   },
   "outputs": [],
   "source": [
    "import math\n",
    "early_df=data[0:int(len(data)/2)]\n",
    "late_df=data[int(len(data)/2):]"
   ]
  },
  {
   "cell_type": "code",
   "execution_count": 87,
   "id": "877dbeed-e994-4279-8ef4-86d9791d5fec",
   "metadata": {
    "tags": []
   },
   "outputs": [],
   "source": [
    "train, test = python_stratified_split(data=data,ratio=0.70, col_user=header[\"col_user\"], col_item=header[\"col_item\"], seed=42)\n",
    "#15s\n",
    "#3s on simplest data"
   ]
  },
  {
   "cell_type": "code",
   "execution_count": 35,
   "id": "607667cc-e363-4762-8f52-0e77e47136b3",
   "metadata": {
    "tags": []
   },
   "outputs": [
    {
     "name": "stdout",
     "output_type": "stream",
     "text": [
      "30040\n"
     ]
    },
    {
     "data": {
      "text/plain": [
       "12901"
      ]
     },
     "execution_count": 35,
     "metadata": {},
     "output_type": "execute_result"
    }
   ],
   "source": [
    "print(len(train))\n",
    "len(test)"
   ]
  },
  {
   "cell_type": "code",
   "execution_count": 90,
   "id": "63d7a946-1a8f-46bb-86f8-375349fb28f4",
   "metadata": {
    "tags": []
   },
   "outputs": [],
   "source": [
    "logging.basicConfig(level=logging.DEBUG, \n",
    "                    format='%(asctime)s %(levelname)-8s %(message)s')\n",
    "\n",
    "model = SAR(\n",
    "    similarity_type=\"jaccard\", \n",
    "    time_decay_coefficient=30, \n",
    "    time_now=None, \n",
    "    timedecay_formula=True, \n",
    "    **header\n",
    ")"
   ]
  },
  {
   "cell_type": "code",
   "execution_count": 91,
   "id": "2845d08b-56a4-4cfc-97c3-43cfbebafc6c",
   "metadata": {
    "tags": []
   },
   "outputs": [
    {
     "name": "stderr",
     "output_type": "stream",
     "text": [
      "2023-04-26 20:38:55,353 INFO     Collecting user affinity matrix\n",
      "2023-04-26 20:38:55,356 INFO     Calculating time-decayed affinities\n",
      "2023-04-26 20:38:55,377 INFO     Creating index columns\n",
      "2023-04-26 20:38:55,404 INFO     Building user affinity sparse matrix\n",
      "2023-04-26 20:38:55,407 INFO     Calculating item co-occurrence\n",
      "2023-04-26 20:38:55,479 INFO     Calculating item similarity\n",
      "2023-04-26 20:38:55,479 INFO     Using jaccard based similarity\n",
      "2023-04-26 20:38:55,719 INFO     Done training\n"
     ]
    }
   ],
   "source": [
    "model.fit(train)"
   ]
  },
  {
   "cell_type": "code",
   "execution_count": 38,
   "id": "387b21cb-c18c-4af4-a846-f609a8833336",
   "metadata": {
    "tags": []
   },
   "outputs": [
    {
     "name": "stderr",
     "output_type": "stream",
     "text": [
      "2023-04-26 15:30:24,496 INFO     Calculating recommendation scores\n",
      "2023-04-26 15:30:24,545 INFO     Removing seen items\n"
     ]
    }
   ],
   "source": [
    "top_k = model.recommend_k_items(test, top_k=TOP_K, remove_seen=True)"
   ]
  },
  {
   "cell_type": "code",
   "execution_count": 39,
   "id": "7c0b033c-1035-447d-8722-5d9251eacf32",
   "metadata": {
    "tags": []
   },
   "outputs": [
    {
     "data": {
      "text/html": [
       "<div>\n",
       "<style scoped>\n",
       "    .dataframe tbody tr th:only-of-type {\n",
       "        vertical-align: middle;\n",
       "    }\n",
       "\n",
       "    .dataframe tbody tr th {\n",
       "        vertical-align: top;\n",
       "    }\n",
       "\n",
       "    .dataframe thead th {\n",
       "        text-align: right;\n",
       "    }\n",
       "</style>\n",
       "<table border=\"1\" class=\"dataframe\">\n",
       "  <thead>\n",
       "    <tr style=\"text-align: right;\">\n",
       "      <th></th>\n",
       "      <th>userId</th>\n",
       "      <th>productId</th>\n",
       "      <th>prediction</th>\n",
       "    </tr>\n",
       "  </thead>\n",
       "  <tbody>\n",
       "    <tr>\n",
       "      <th>0</th>\n",
       "      <td>A100UD67AHFODS</td>\n",
       "      <td>B00F0DD0I6</td>\n",
       "      <td>0.222598</td>\n",
       "    </tr>\n",
       "    <tr>\n",
       "      <th>1</th>\n",
       "      <td>A100UD67AHFODS</td>\n",
       "      <td>B00ENZRS76</td>\n",
       "      <td>0.181897</td>\n",
       "    </tr>\n",
       "    <tr>\n",
       "      <th>2</th>\n",
       "      <td>A100UD67AHFODS</td>\n",
       "      <td>B00DK2JQOQ</td>\n",
       "      <td>0.157219</td>\n",
       "    </tr>\n",
       "    <tr>\n",
       "      <th>3</th>\n",
       "      <td>A100UD67AHFODS</td>\n",
       "      <td>B00FSA8VQ2</td>\n",
       "      <td>0.148283</td>\n",
       "    </tr>\n",
       "    <tr>\n",
       "      <th>4</th>\n",
       "      <td>A100UD67AHFODS</td>\n",
       "      <td>B007OY5V68</td>\n",
       "      <td>0.148057</td>\n",
       "    </tr>\n",
       "    <tr>\n",
       "      <th>...</th>\n",
       "      <td>...</td>\n",
       "      <td>...</td>\n",
       "      <td>...</td>\n",
       "    </tr>\n",
       "    <tr>\n",
       "      <th>15285</th>\n",
       "      <td>AZOK5STV85FBJ</td>\n",
       "      <td>B003Y30334</td>\n",
       "      <td>0.000033</td>\n",
       "    </tr>\n",
       "    <tr>\n",
       "      <th>15286</th>\n",
       "      <td>AZOK5STV85FBJ</td>\n",
       "      <td>B005FYNSPK</td>\n",
       "      <td>0.000032</td>\n",
       "    </tr>\n",
       "    <tr>\n",
       "      <th>15287</th>\n",
       "      <td>AZOK5STV85FBJ</td>\n",
       "      <td>B000067RC4</td>\n",
       "      <td>0.000032</td>\n",
       "    </tr>\n",
       "    <tr>\n",
       "      <th>15288</th>\n",
       "      <td>AZOK5STV85FBJ</td>\n",
       "      <td>B001ID829O</td>\n",
       "      <td>0.000031</td>\n",
       "    </tr>\n",
       "    <tr>\n",
       "      <th>15289</th>\n",
       "      <td>AZOK5STV85FBJ</td>\n",
       "      <td>B000051299</td>\n",
       "      <td>0.000031</td>\n",
       "    </tr>\n",
       "  </tbody>\n",
       "</table>\n",
       "<p>15290 rows × 3 columns</p>\n",
       "</div>"
      ],
      "text/plain": [
       "               userId   productId  prediction\n",
       "0      A100UD67AHFODS  B00F0DD0I6    0.222598\n",
       "1      A100UD67AHFODS  B00ENZRS76    0.181897\n",
       "2      A100UD67AHFODS  B00DK2JQOQ    0.157219\n",
       "3      A100UD67AHFODS  B00FSA8VQ2    0.148283\n",
       "4      A100UD67AHFODS  B007OY5V68    0.148057\n",
       "...               ...         ...         ...\n",
       "15285   AZOK5STV85FBJ  B003Y30334    0.000033\n",
       "15286   AZOK5STV85FBJ  B005FYNSPK    0.000032\n",
       "15287   AZOK5STV85FBJ  B000067RC4    0.000032\n",
       "15288   AZOK5STV85FBJ  B001ID829O    0.000031\n",
       "15289   AZOK5STV85FBJ  B000051299    0.000031\n",
       "\n",
       "[15290 rows x 3 columns]"
      ]
     },
     "execution_count": 39,
     "metadata": {},
     "output_type": "execute_result"
    }
   ],
   "source": [
    "top_k"
   ]
  },
  {
   "cell_type": "code",
   "execution_count": 64,
   "id": "6de15c2f-5971-412e-ad12-bc1267854115",
   "metadata": {
    "tags": []
   },
   "outputs": [],
   "source": [
    "# all ranking metrics have the same arguments\n",
    "args = [test, top_k]\n",
    "kwargs = dict(col_user='userId', \n",
    "              col_item='productId', \n",
    "              col_rating='rating', \n",
    "              col_prediction='prediction', \n",
    "              relevancy_method='top_k', \n",
    "              k=TOP_K)\n",
    "\n",
    "eval_map = map_at_k(*args, **kwargs)\n",
    "eval_ndcg = ndcg_at_k(*args, **kwargs)\n",
    "eval_precision = precision_at_k(*args, **kwargs)\n",
    "eval_recall = recall_at_k(*args, **kwargs)"
   ]
  },
  {
   "cell_type": "code",
   "execution_count": 65,
   "id": "f4bb527c-1555-40c1-90c1-4a8ccdedb871",
   "metadata": {
    "tags": []
   },
   "outputs": [
    {
     "name": "stdout",
     "output_type": "stream",
     "text": [
      "Model:\n",
      "Top K:\t\t 10\n",
      "MAP:\t\t 0.007229\n",
      "NDCG:\t\t 0.021981\n",
      "Precision@K:\t 0.016743\n",
      "Recall@K:\t 0.018617\n"
     ]
    }
   ],
   "source": [
    "print(f\"Model:\",\n",
    "      f\"Top K:\\t\\t {TOP_K}\",\n",
    "      f\"MAP:\\t\\t {eval_map:f}\",\n",
    "      f\"NDCG:\\t\\t {eval_ndcg:f}\",\n",
    "      f\"Precision@K:\\t {eval_precision:f}\",\n",
    "      f\"Recall@K:\\t {eval_recall:f}\", sep='\\n')"
   ]
  },
  {
   "cell_type": "code",
   "execution_count": 122,
   "id": "ffa3367b-49ed-49a4-b227-1cc9e8b4d691",
   "metadata": {
    "tags": []
   },
   "outputs": [],
   "source": [
    "train, test = python_stratified_split(data=late_df,ratio=0.70, col_user=header[\"col_user\"], col_item=header[\"col_item\"], seed=42)\n",
    "#15s\n",
    "#3s on simplest data"
   ]
  },
  {
   "cell_type": "code",
   "execution_count": 123,
   "id": "91bc6274-6f55-40e3-b47c-1f9a9f4e1920",
   "metadata": {
    "tags": []
   },
   "outputs": [
    {
     "name": "stdout",
     "output_type": "stream",
     "text": [
      "15030\n"
     ]
    },
    {
     "data": {
      "text/plain": [
       "6441"
      ]
     },
     "execution_count": 123,
     "metadata": {},
     "output_type": "execute_result"
    }
   ],
   "source": [
    "print(len(train))\n",
    "len(test)"
   ]
  },
  {
   "cell_type": "code",
   "execution_count": 124,
   "id": "a50b1e7b-f92b-4479-8d6a-578e16461311",
   "metadata": {
    "tags": []
   },
   "outputs": [],
   "source": [
    "logging.basicConfig(level=logging.DEBUG, \n",
    "                    format='%(asctime)s %(levelname)-8s %(message)s')\n",
    "\n",
    "model = SAR(\n",
    "    similarity_type=\"jaccard\", \n",
    "    time_decay_coefficient=30, \n",
    "    time_now=None, \n",
    "    timedecay_formula=True, \n",
    "    **header\n",
    ")"
   ]
  },
  {
   "cell_type": "code",
   "execution_count": 125,
   "id": "cda9ce6d-97f4-4a00-8cb0-b37c106ba62c",
   "metadata": {
    "tags": []
   },
   "outputs": [
    {
     "name": "stderr",
     "output_type": "stream",
     "text": [
      "2023-04-26 21:12:39,674 INFO     Collecting user affinity matrix\n",
      "2023-04-26 21:12:39,676 INFO     Calculating time-decayed affinities\n",
      "2023-04-26 21:12:39,684 INFO     Creating index columns\n",
      "2023-04-26 21:12:39,699 INFO     Building user affinity sparse matrix\n",
      "2023-04-26 21:12:39,700 INFO     Calculating item co-occurrence\n",
      "2023-04-26 21:12:39,717 INFO     Calculating item similarity\n",
      "2023-04-26 21:12:39,718 INFO     Using jaccard based similarity\n",
      "2023-04-26 21:12:39,739 INFO     Done training\n"
     ]
    }
   ],
   "source": [
    "model.fit(train)"
   ]
  },
  {
   "cell_type": "code",
   "execution_count": 126,
   "id": "1457c0b1-52fa-466a-93ee-3ecc90c3ed99",
   "metadata": {
    "tags": []
   },
   "outputs": [
    {
     "name": "stderr",
     "output_type": "stream",
     "text": [
      "2023-04-26 21:12:40,789 INFO     Calculating recommendation scores\n",
      "2023-04-26 21:12:40,805 INFO     Removing seen items\n"
     ]
    }
   ],
   "source": [
    "top_k = model.recommend_k_items(test, top_k=TOP_K, remove_seen=True)"
   ]
  },
  {
   "cell_type": "code",
   "execution_count": 127,
   "id": "38166448-566c-4616-adb6-efd3d90fd138",
   "metadata": {
    "tags": []
   },
   "outputs": [
    {
     "data": {
      "text/html": [
       "<div>\n",
       "<style scoped>\n",
       "    .dataframe tbody tr th:only-of-type {\n",
       "        vertical-align: middle;\n",
       "    }\n",
       "\n",
       "    .dataframe tbody tr th {\n",
       "        vertical-align: top;\n",
       "    }\n",
       "\n",
       "    .dataframe thead th {\n",
       "        text-align: right;\n",
       "    }\n",
       "</style>\n",
       "<table border=\"1\" class=\"dataframe\">\n",
       "  <thead>\n",
       "    <tr style=\"text-align: right;\">\n",
       "      <th></th>\n",
       "      <th>userId</th>\n",
       "      <th>productId</th>\n",
       "      <th>prediction</th>\n",
       "    </tr>\n",
       "  </thead>\n",
       "  <tbody>\n",
       "    <tr>\n",
       "      <th>0</th>\n",
       "      <td>37</td>\n",
       "      <td>1399</td>\n",
       "      <td>0.466198</td>\n",
       "    </tr>\n",
       "    <tr>\n",
       "      <th>1</th>\n",
       "      <td>37</td>\n",
       "      <td>1445</td>\n",
       "      <td>0.389908</td>\n",
       "    </tr>\n",
       "    <tr>\n",
       "      <th>2</th>\n",
       "      <td>37</td>\n",
       "      <td>1215</td>\n",
       "      <td>0.380470</td>\n",
       "    </tr>\n",
       "    <tr>\n",
       "      <th>3</th>\n",
       "      <td>37</td>\n",
       "      <td>1889</td>\n",
       "      <td>0.339529</td>\n",
       "    </tr>\n",
       "    <tr>\n",
       "      <th>4</th>\n",
       "      <td>37</td>\n",
       "      <td>1389</td>\n",
       "      <td>0.322925</td>\n",
       "    </tr>\n",
       "    <tr>\n",
       "      <th>...</th>\n",
       "      <td>...</td>\n",
       "      <td>...</td>\n",
       "      <td>...</td>\n",
       "    </tr>\n",
       "    <tr>\n",
       "      <th>14605</th>\n",
       "      <td>1532</td>\n",
       "      <td>1538</td>\n",
       "      <td>0.107445</td>\n",
       "    </tr>\n",
       "    <tr>\n",
       "      <th>14606</th>\n",
       "      <td>1532</td>\n",
       "      <td>1793</td>\n",
       "      <td>0.107262</td>\n",
       "    </tr>\n",
       "    <tr>\n",
       "      <th>14607</th>\n",
       "      <td>1532</td>\n",
       "      <td>1964</td>\n",
       "      <td>0.095966</td>\n",
       "    </tr>\n",
       "    <tr>\n",
       "      <th>14608</th>\n",
       "      <td>1532</td>\n",
       "      <td>1701</td>\n",
       "      <td>0.095761</td>\n",
       "    </tr>\n",
       "    <tr>\n",
       "      <th>14609</th>\n",
       "      <td>1532</td>\n",
       "      <td>1778</td>\n",
       "      <td>0.092569</td>\n",
       "    </tr>\n",
       "  </tbody>\n",
       "</table>\n",
       "<p>14610 rows × 3 columns</p>\n",
       "</div>"
      ],
      "text/plain": [
       "       userId  productId  prediction\n",
       "0          37       1399    0.466198\n",
       "1          37       1445    0.389908\n",
       "2          37       1215    0.380470\n",
       "3          37       1889    0.339529\n",
       "4          37       1389    0.322925\n",
       "...       ...        ...         ...\n",
       "14605    1532       1538    0.107445\n",
       "14606    1532       1793    0.107262\n",
       "14607    1532       1964    0.095966\n",
       "14608    1532       1701    0.095761\n",
       "14609    1532       1778    0.092569\n",
       "\n",
       "[14610 rows x 3 columns]"
      ]
     },
     "execution_count": 127,
     "metadata": {},
     "output_type": "execute_result"
    }
   ],
   "source": [
    "top_k"
   ]
  },
  {
   "cell_type": "code",
   "execution_count": 128,
   "id": "0b456ab1-fa6d-4613-a9c3-c69e5b49de47",
   "metadata": {
    "tags": []
   },
   "outputs": [],
   "source": [
    "# all ranking metrics have the same arguments\n",
    "args = [test, top_k]\n",
    "kwargs = dict(col_user='userId', \n",
    "              col_item='productId', \n",
    "              col_rating='rating', \n",
    "              col_prediction='prediction', \n",
    "              relevancy_method='top_k', \n",
    "              k=TOP_K)\n",
    "\n",
    "eval_map = map_at_k(*args, **kwargs)\n",
    "eval_ndcg = ndcg_at_k(*args, **kwargs)\n",
    "eval_precision = precision_at_k(*args, **kwargs)\n",
    "eval_recall = recall_at_k(*args, **kwargs)"
   ]
  },
  {
   "cell_type": "code",
   "execution_count": 129,
   "id": "4a61b3ad-8fba-4bdf-b5f0-2491ed0fe599",
   "metadata": {
    "tags": []
   },
   "outputs": [
    {
     "name": "stdout",
     "output_type": "stream",
     "text": [
      "Model:\n",
      "Top K:\t\t 10\n",
      "MAP:\t\t 0.010783\n",
      "NDCG:\t\t 0.023565\n",
      "Precision@K:\t 0.013826\n",
      "Recall@K:\t 0.026422\n"
     ]
    }
   ],
   "source": [
    "print(f\"Model:\",\n",
    "      f\"Top K:\\t\\t {TOP_K}\",\n",
    "      f\"MAP:\\t\\t {eval_map:f}\",\n",
    "      f\"NDCG:\\t\\t {eval_ndcg:f}\",\n",
    "      f\"Precision@K:\\t {eval_precision:f}\",\n",
    "      f\"Recall@K:\\t {eval_recall:f}\", sep='\\n')"
   ]
  }
 ],
 "metadata": {
  "kernelspec": {
   "display_name": "conda_pytorch_p39",
   "language": "python",
   "name": "conda_pytorch_p39"
  },
  "language_info": {
   "codemirror_mode": {
    "name": "ipython",
    "version": 3
   },
   "file_extension": ".py",
   "mimetype": "text/x-python",
   "name": "python",
   "nbconvert_exporter": "python",
   "pygments_lexer": "ipython3",
   "version": "3.9.15"
  }
 },
 "nbformat": 4,
 "nbformat_minor": 5
}
