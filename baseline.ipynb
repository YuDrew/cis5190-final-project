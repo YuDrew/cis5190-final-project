{
 "cells": [
  {
   "cell_type": "code",
   "execution_count": 1,
   "metadata": {
    "colab": {
     "base_uri": "https://localhost:8080/"
    },
    "executionInfo": {
     "elapsed": 10412,
     "status": "ok",
     "timestamp": 1680646341728,
     "user": {
      "displayName": "Hassan Hammoud",
      "userId": "16161795926694958684"
     },
     "user_tz": 240
    },
    "id": "oueusgsarCmM",
    "outputId": "72166fc0-d649-44f1-d9b5-2e20975c374f",
    "tags": []
   },
   "outputs": [],
   "source": [
    "%%capture\n",
    "import random \n",
    "import numpy as np\n",
    "import pandas as pd\n",
    "import os\n",
    "import sys\n",
    "import matplotlib.pyplot as plt\n",
    "from numpy.linalg import *\n",
    "from scipy.spatial import distance\n",
    "from sklearn import preprocessing\n",
    "from sklearn.preprocessing import StandardScaler\n",
    "np.random.seed(42)  # don't change this line\n",
    "\n",
    "import base64\n",
    "import datetime\n",
    "!pip install recommenders"
   ]
  },
  {
   "cell_type": "code",
   "execution_count": 2,
   "metadata": {
    "colab": {
     "base_uri": "https://localhost:8080/"
    },
    "executionInfo": {
     "elapsed": 2073,
     "status": "ok",
     "timestamp": 1680646343797,
     "user": {
      "displayName": "Hassan Hammoud",
      "userId": "16161795926694958684"
     },
     "user_tz": 240
    },
    "id": "yH2b-zMjLPQG",
    "outputId": "a7e4eb99-f0c6-4e1d-f412-238149ed4927",
    "tags": []
   },
   "outputs": [
    {
     "name": "stdout",
     "output_type": "stream",
     "text": [
      "System version: 3.7.10 | packaged by conda-forge | (default, Feb 19 2021, 16:07:37) \n",
      "[GCC 9.3.0]\n",
      "Pandas version: 1.3.0\n"
     ]
    }
   ],
   "source": [
    "import sys\n",
    "\n",
    "import itertools\n",
    "import pandas as pd\n",
    "\n",
    "from recommenders.utils.notebook_utils import is_jupyter\n",
    "from recommenders.datasets import movielens\n",
    "from recommenders.datasets.python_splitters import python_random_split\n",
    "from recommenders.datasets.pandas_df_utils import filter_by\n",
    "from recommenders.evaluation.python_evaluation import (\n",
    "    rmse, mae, rsquared, exp_var,\n",
    "    map_at_k, ndcg_at_k, precision_at_k, recall_at_k\n",
    ")\n",
    "\n",
    "print(\"System version: {}\".format(sys.version))\n",
    "print(\"Pandas version: {}\".format(pd.__version__))"
   ]
  },
  {
   "cell_type": "code",
   "execution_count": 4,
   "metadata": {
    "executionInfo": {
     "elapsed": 16698,
     "status": "ok",
     "timestamp": 1680646361627,
     "user": {
      "displayName": "Hassan Hammoud",
      "userId": "16161795926694958684"
     },
     "user_tz": 240
    },
    "id": "KqCHMQJpQRgI",
    "tags": []
   },
   "outputs": [
    {
     "data": {
      "text/html": [
       "<div>\n",
       "<style scoped>\n",
       "    .dataframe tbody tr th:only-of-type {\n",
       "        vertical-align: middle;\n",
       "    }\n",
       "\n",
       "    .dataframe tbody tr th {\n",
       "        vertical-align: top;\n",
       "    }\n",
       "\n",
       "    .dataframe thead th {\n",
       "        text-align: right;\n",
       "    }\n",
       "</style>\n",
       "<table border=\"1\" class=\"dataframe\">\n",
       "  <thead>\n",
       "    <tr style=\"text-align: right;\">\n",
       "      <th></th>\n",
       "      <th>userId</th>\n",
       "      <th>productId</th>\n",
       "      <th>rating</th>\n",
       "      <th>timestamp</th>\n",
       "    </tr>\n",
       "  </thead>\n",
       "  <tbody>\n",
       "    <tr>\n",
       "      <th>0</th>\n",
       "      <td>AKM1MP6P0OYPR</td>\n",
       "      <td>0132793040</td>\n",
       "      <td>5.0</td>\n",
       "      <td>1365811200</td>\n",
       "    </tr>\n",
       "    <tr>\n",
       "      <th>1</th>\n",
       "      <td>A2CX7LUOHB2NDG</td>\n",
       "      <td>0321732944</td>\n",
       "      <td>5.0</td>\n",
       "      <td>1341100800</td>\n",
       "    </tr>\n",
       "    <tr>\n",
       "      <th>2</th>\n",
       "      <td>A2NWSAGRHCP8N5</td>\n",
       "      <td>0439886341</td>\n",
       "      <td>1.0</td>\n",
       "      <td>1367193600</td>\n",
       "    </tr>\n",
       "    <tr>\n",
       "      <th>3</th>\n",
       "      <td>A2WNBOD3WNDNKT</td>\n",
       "      <td>0439886341</td>\n",
       "      <td>3.0</td>\n",
       "      <td>1374451200</td>\n",
       "    </tr>\n",
       "    <tr>\n",
       "      <th>4</th>\n",
       "      <td>A1GI0U4ZRJA8WN</td>\n",
       "      <td>0439886341</td>\n",
       "      <td>1.0</td>\n",
       "      <td>1334707200</td>\n",
       "    </tr>\n",
       "    <tr>\n",
       "      <th>...</th>\n",
       "      <td>...</td>\n",
       "      <td>...</td>\n",
       "      <td>...</td>\n",
       "      <td>...</td>\n",
       "    </tr>\n",
       "    <tr>\n",
       "      <th>7824477</th>\n",
       "      <td>A2YZI3C9MOHC0L</td>\n",
       "      <td>BT008UKTMW</td>\n",
       "      <td>5.0</td>\n",
       "      <td>1396569600</td>\n",
       "    </tr>\n",
       "    <tr>\n",
       "      <th>7824478</th>\n",
       "      <td>A322MDK0M89RHN</td>\n",
       "      <td>BT008UKTMW</td>\n",
       "      <td>5.0</td>\n",
       "      <td>1313366400</td>\n",
       "    </tr>\n",
       "    <tr>\n",
       "      <th>7824479</th>\n",
       "      <td>A1MH90R0ADMIK0</td>\n",
       "      <td>BT008UKTMW</td>\n",
       "      <td>4.0</td>\n",
       "      <td>1404172800</td>\n",
       "    </tr>\n",
       "    <tr>\n",
       "      <th>7824480</th>\n",
       "      <td>A10M2KEFPEQDHN</td>\n",
       "      <td>BT008UKTMW</td>\n",
       "      <td>4.0</td>\n",
       "      <td>1297555200</td>\n",
       "    </tr>\n",
       "    <tr>\n",
       "      <th>7824481</th>\n",
       "      <td>A2G81TMIOIDEQQ</td>\n",
       "      <td>BT008V9J9U</td>\n",
       "      <td>5.0</td>\n",
       "      <td>1312675200</td>\n",
       "    </tr>\n",
       "  </tbody>\n",
       "</table>\n",
       "<p>7824482 rows × 4 columns</p>\n",
       "</div>"
      ],
      "text/plain": [
       "                 userId   productId  rating   timestamp\n",
       "0         AKM1MP6P0OYPR  0132793040     5.0  1365811200\n",
       "1        A2CX7LUOHB2NDG  0321732944     5.0  1341100800\n",
       "2        A2NWSAGRHCP8N5  0439886341     1.0  1367193600\n",
       "3        A2WNBOD3WNDNKT  0439886341     3.0  1374451200\n",
       "4        A1GI0U4ZRJA8WN  0439886341     1.0  1334707200\n",
       "...                 ...         ...     ...         ...\n",
       "7824477  A2YZI3C9MOHC0L  BT008UKTMW     5.0  1396569600\n",
       "7824478  A322MDK0M89RHN  BT008UKTMW     5.0  1313366400\n",
       "7824479  A1MH90R0ADMIK0  BT008UKTMW     4.0  1404172800\n",
       "7824480  A10M2KEFPEQDHN  BT008UKTMW     4.0  1297555200\n",
       "7824481  A2G81TMIOIDEQQ  BT008V9J9U     5.0  1312675200\n",
       "\n",
       "[7824482 rows x 4 columns]"
      ]
     },
     "execution_count": 4,
     "metadata": {},
     "output_type": "execute_result"
    }
   ],
   "source": [
    "path = \"https://5190-hav-recommendation-data.s3.us-east-1.amazonaws.com/ratings_Electronics.csv\"\n",
    "data = pd.read_csv(path, header=None)\n",
    "data.columns = ['userId', 'productId', 'rating', 'timestamp']\n",
    "data\n",
    "#takes 10s or so"
   ]
  },
  {
   "cell_type": "code",
   "execution_count": 5,
   "metadata": {
    "tags": []
   },
   "outputs": [
    {
     "name": "stdout",
     "output_type": "stream",
     "text": [
      "(125871, 5)\n"
     ]
    },
    {
     "data": {
      "text/html": [
       "<div>\n",
       "<style scoped>\n",
       "    .dataframe tbody tr th:only-of-type {\n",
       "        vertical-align: middle;\n",
       "    }\n",
       "\n",
       "    .dataframe tbody tr th {\n",
       "        vertical-align: top;\n",
       "    }\n",
       "\n",
       "    .dataframe thead th {\n",
       "        text-align: right;\n",
       "    }\n",
       "</style>\n",
       "<table border=\"1\" class=\"dataframe\">\n",
       "  <thead>\n",
       "    <tr style=\"text-align: right;\">\n",
       "      <th></th>\n",
       "      <th>userId</th>\n",
       "      <th>productId</th>\n",
       "      <th>rating</th>\n",
       "      <th>timestamp</th>\n",
       "      <th>user_rating_count</th>\n",
       "    </tr>\n",
       "  </thead>\n",
       "  <tbody>\n",
       "    <tr>\n",
       "      <th>94</th>\n",
       "      <td>A3BY5KCNQZXV5U</td>\n",
       "      <td>0594451647</td>\n",
       "      <td>5.0</td>\n",
       "      <td>1390176000</td>\n",
       "      <td>50</td>\n",
       "    </tr>\n",
       "    <tr>\n",
       "      <th>14863</th>\n",
       "      <td>A3BY5KCNQZXV5U</td>\n",
       "      <td>B00000JD4V</td>\n",
       "      <td>4.0</td>\n",
       "      <td>1118016000</td>\n",
       "      <td>50</td>\n",
       "    </tr>\n",
       "    <tr>\n",
       "      <th>134213</th>\n",
       "      <td>A3BY5KCNQZXV5U</td>\n",
       "      <td>B000063574</td>\n",
       "      <td>5.0</td>\n",
       "      <td>1016668800</td>\n",
       "      <td>50</td>\n",
       "    </tr>\n",
       "    <tr>\n",
       "      <th>338368</th>\n",
       "      <td>A3BY5KCNQZXV5U</td>\n",
       "      <td>B0000CDJP8</td>\n",
       "      <td>5.0</td>\n",
       "      <td>1258761600</td>\n",
       "      <td>50</td>\n",
       "    </tr>\n",
       "    <tr>\n",
       "      <th>634048</th>\n",
       "      <td>A3BY5KCNQZXV5U</td>\n",
       "      <td>B0007Y794O</td>\n",
       "      <td>5.0</td>\n",
       "      <td>1369872000</td>\n",
       "      <td>50</td>\n",
       "    </tr>\n",
       "  </tbody>\n",
       "</table>\n",
       "</div>"
      ],
      "text/plain": [
       "                userId   productId  rating   timestamp  user_rating_count\n",
       "94      A3BY5KCNQZXV5U  0594451647     5.0  1390176000                 50\n",
       "14863   A3BY5KCNQZXV5U  B00000JD4V     4.0  1118016000                 50\n",
       "134213  A3BY5KCNQZXV5U  B000063574     5.0  1016668800                 50\n",
       "338368  A3BY5KCNQZXV5U  B0000CDJP8     5.0  1258761600                 50\n",
       "634048  A3BY5KCNQZXV5U  B0007Y794O     5.0  1369872000                 50"
      ]
     },
     "execution_count": 5,
     "metadata": {},
     "output_type": "execute_result"
    }
   ],
   "source": [
    "user_rating_count = data['userId'].value_counts().rename('user_rating_count')\n",
    "augmented_amazon_data = data.merge(user_rating_count.to_frame(), left_on='userId', right_index=True)\n",
    "subset_df = augmented_amazon_data[augmented_amazon_data.user_rating_count >= 50]\n",
    "print(subset_df.shape)\n",
    "subset_df.head()\n",
    "#10s"
   ]
  },
  {
   "cell_type": "code",
   "execution_count": 6,
   "metadata": {
    "tags": []
   },
   "outputs": [
    {
     "data": {
      "text/html": [
       "<div>\n",
       "<style scoped>\n",
       "    .dataframe tbody tr th:only-of-type {\n",
       "        vertical-align: middle;\n",
       "    }\n",
       "\n",
       "    .dataframe tbody tr th {\n",
       "        vertical-align: top;\n",
       "    }\n",
       "\n",
       "    .dataframe thead th {\n",
       "        text-align: right;\n",
       "    }\n",
       "</style>\n",
       "<table border=\"1\" class=\"dataframe\">\n",
       "  <thead>\n",
       "    <tr style=\"text-align: right;\">\n",
       "      <th></th>\n",
       "      <th>userId</th>\n",
       "      <th>productId</th>\n",
       "      <th>rating</th>\n",
       "      <th>timestamp</th>\n",
       "      <th>user_rating_count</th>\n",
       "      <th>product_rating_counts</th>\n",
       "    </tr>\n",
       "  </thead>\n",
       "  <tbody>\n",
       "    <tr>\n",
       "      <th>634048</th>\n",
       "      <td>A3BY5KCNQZXV5U</td>\n",
       "      <td>B0007Y794O</td>\n",
       "      <td>5.0</td>\n",
       "      <td>1369872000</td>\n",
       "      <td>50</td>\n",
       "      <td>18</td>\n",
       "    </tr>\n",
       "    <tr>\n",
       "      <th>633970</th>\n",
       "      <td>AKT8TGIT6VVZ5</td>\n",
       "      <td>B0007Y794O</td>\n",
       "      <td>5.0</td>\n",
       "      <td>1147305600</td>\n",
       "      <td>192</td>\n",
       "      <td>18</td>\n",
       "    </tr>\n",
       "    <tr>\n",
       "      <th>633944</th>\n",
       "      <td>A1ILWPH1GHUXE2</td>\n",
       "      <td>B0007Y794O</td>\n",
       "      <td>4.0</td>\n",
       "      <td>1358553600</td>\n",
       "      <td>98</td>\n",
       "      <td>18</td>\n",
       "    </tr>\n",
       "    <tr>\n",
       "      <th>634073</th>\n",
       "      <td>A1ZM846Y7AUYD</td>\n",
       "      <td>B0007Y794O</td>\n",
       "      <td>4.0</td>\n",
       "      <td>1201132800</td>\n",
       "      <td>77</td>\n",
       "      <td>18</td>\n",
       "    </tr>\n",
       "    <tr>\n",
       "      <th>633998</th>\n",
       "      <td>A2ED50E3KWKUKW</td>\n",
       "      <td>B0007Y794O</td>\n",
       "      <td>5.0</td>\n",
       "      <td>1331856000</td>\n",
       "      <td>65</td>\n",
       "      <td>18</td>\n",
       "    </tr>\n",
       "  </tbody>\n",
       "</table>\n",
       "</div>"
      ],
      "text/plain": [
       "                userId   productId  rating   timestamp  user_rating_count  \\\n",
       "634048  A3BY5KCNQZXV5U  B0007Y794O     5.0  1369872000                 50   \n",
       "633970   AKT8TGIT6VVZ5  B0007Y794O     5.0  1147305600                192   \n",
       "633944  A1ILWPH1GHUXE2  B0007Y794O     4.0  1358553600                 98   \n",
       "634073   A1ZM846Y7AUYD  B0007Y794O     4.0  1201132800                 77   \n",
       "633998  A2ED50E3KWKUKW  B0007Y794O     5.0  1331856000                 65   \n",
       "\n",
       "        product_rating_counts  \n",
       "634048                     18  \n",
       "633970                     18  \n",
       "633944                     18  \n",
       "634073                     18  \n",
       "633998                     18  "
      ]
     },
     "execution_count": 6,
     "metadata": {},
     "output_type": "execute_result"
    }
   ],
   "source": [
    "product_rating_counts = subset_df['productId'].value_counts().rename('product_rating_counts')\n",
    "product_rating_data   = subset_df.merge(product_rating_counts.to_frame(),\n",
    "                                left_on='productId',\n",
    "                                right_index=True)\n",
    "product_rating_data = product_rating_data[product_rating_data.product_rating_counts >= 10]\n",
    "product_rating_data.head()"
   ]
  },
  {
   "cell_type": "code",
   "execution_count": 10,
   "metadata": {
    "tags": []
   },
   "outputs": [],
   "source": [
    "data=product_rating_data\n",
    "data.drop(columns=['user_rating_count','product_rating_counts'],inplace=True)"
   ]
  },
  {
   "cell_type": "code",
   "execution_count": 11,
   "metadata": {
    "colab": {
     "base_uri": "https://localhost:8080/",
     "height": 206
    },
    "executionInfo": {
     "elapsed": 9924,
     "status": "ok",
     "timestamp": 1680646371833,
     "user": {
      "displayName": "Hassan Hammoud",
      "userId": "16161795926694958684"
     },
     "user_tz": 240
    },
    "id": "dPzp2IZ5L9SV",
    "outputId": "ba2c2692-abb5-465b-cec3-6a8f31f96b90",
    "tags": []
   },
   "outputs": [
    {
     "data": {
      "text/html": [
       "<div>\n",
       "<style scoped>\n",
       "    .dataframe tbody tr th:only-of-type {\n",
       "        vertical-align: middle;\n",
       "    }\n",
       "\n",
       "    .dataframe tbody tr th {\n",
       "        vertical-align: top;\n",
       "    }\n",
       "\n",
       "    .dataframe thead th {\n",
       "        text-align: right;\n",
       "    }\n",
       "</style>\n",
       "<table border=\"1\" class=\"dataframe\">\n",
       "  <thead>\n",
       "    <tr style=\"text-align: right;\">\n",
       "      <th></th>\n",
       "      <th>userId</th>\n",
       "      <th>productId</th>\n",
       "      <th>rating</th>\n",
       "      <th>timestamp</th>\n",
       "    </tr>\n",
       "  </thead>\n",
       "  <tbody>\n",
       "    <tr>\n",
       "      <th>634048</th>\n",
       "      <td>A3BY5KCNQZXV5U</td>\n",
       "      <td>B0007Y794O</td>\n",
       "      <td>5.0</td>\n",
       "      <td>1369872000</td>\n",
       "    </tr>\n",
       "    <tr>\n",
       "      <th>633970</th>\n",
       "      <td>AKT8TGIT6VVZ5</td>\n",
       "      <td>B0007Y794O</td>\n",
       "      <td>5.0</td>\n",
       "      <td>1147305600</td>\n",
       "    </tr>\n",
       "    <tr>\n",
       "      <th>633944</th>\n",
       "      <td>A1ILWPH1GHUXE2</td>\n",
       "      <td>B0007Y794O</td>\n",
       "      <td>4.0</td>\n",
       "      <td>1358553600</td>\n",
       "    </tr>\n",
       "    <tr>\n",
       "      <th>634073</th>\n",
       "      <td>A1ZM846Y7AUYD</td>\n",
       "      <td>B0007Y794O</td>\n",
       "      <td>4.0</td>\n",
       "      <td>1201132800</td>\n",
       "    </tr>\n",
       "    <tr>\n",
       "      <th>633998</th>\n",
       "      <td>A2ED50E3KWKUKW</td>\n",
       "      <td>B0007Y794O</td>\n",
       "      <td>5.0</td>\n",
       "      <td>1331856000</td>\n",
       "    </tr>\n",
       "  </tbody>\n",
       "</table>\n",
       "</div>"
      ],
      "text/plain": [
       "                userId   productId  rating   timestamp\n",
       "634048  A3BY5KCNQZXV5U  B0007Y794O     5.0  1369872000\n",
       "633970   AKT8TGIT6VVZ5  B0007Y794O     5.0  1147305600\n",
       "633944  A1ILWPH1GHUXE2  B0007Y794O     4.0  1358553600\n",
       "634073   A1ZM846Y7AUYD  B0007Y794O     4.0  1201132800\n",
       "633998  A2ED50E3KWKUKW  B0007Y794O     5.0  1331856000"
      ]
     },
     "execution_count": 11,
     "metadata": {},
     "output_type": "execute_result"
    }
   ],
   "source": [
    "# data = movielens.load_pandas_df(\n",
    "#     size='100k',\n",
    "#     header=['UserId', 'MovieId', 'Rating', 'Timestamp']\n",
    "# )\n",
    "\n",
    "#get rid of whitespace\n",
    "data = data.apply(lambda x: x.str.strip() if x.dtype == \"object\" else x)\n",
    "data.head()"
   ]
  },
  {
   "cell_type": "code",
   "execution_count": 12,
   "metadata": {
    "colab": {
     "base_uri": "https://localhost:8080/"
    },
    "executionInfo": {
     "elapsed": 4,
     "status": "ok",
     "timestamp": 1680646371833,
     "user": {
      "displayName": "Hassan Hammoud",
      "userId": "16161795926694958684"
     },
     "user_tz": 240
    },
    "id": "-fpT0Fh-Q2N0",
    "outputId": "b26750ca-54e3-4a22-8638-a990c958ca26",
    "tags": []
   },
   "outputs": [
    {
     "name": "stdout",
     "output_type": "stream",
     "text": [
      "Total Number of rows : 42941\n",
      "Total Number of columns : 4\n",
      "userId        object\n",
      "productId     object\n",
      "rating       float64\n",
      "timestamp      int64\n",
      "dtype: object\n"
     ]
    }
   ],
   "source": [
    "rows_count, columns_count = data.shape\n",
    "print('Total Number of rows :', rows_count)\n",
    "print('Total Number of columns :', columns_count)\n",
    "print(data.dtypes)"
   ]
  },
  {
   "cell_type": "code",
   "execution_count": 13,
   "metadata": {
    "colab": {
     "base_uri": "https://localhost:8080/"
    },
    "executionInfo": {
     "elapsed": 8768,
     "status": "ok",
     "timestamp": 1680646380599,
     "user": {
      "displayName": "Hassan Hammoud",
      "userId": "16161795926694958684"
     },
     "user_tz": 240
    },
    "id": "EzL4lNY4Q2x0",
    "outputId": "29bfcc6b-32ae-40c2-8062-0e29c6018fb6",
    "tags": []
   },
   "outputs": [
    {
     "name": "stdout",
     "output_type": "stream",
     "text": [
      "Total number of unique Users    :  1532\n",
      "Total number of unique Products :  2263\n"
     ]
    }
   ],
   "source": [
    "unique_userId = data['userId'].nunique()\n",
    "unique_productId = data['productId'].nunique()\n",
    "print('Total number of unique Users    : ', unique_userId)\n",
    "print('Total number of unique Products : ', unique_productId)"
   ]
  },
  {
   "cell_type": "code",
   "execution_count": 14,
   "metadata": {
    "colab": {
     "base_uri": "https://localhost:8080/"
    },
    "executionInfo": {
     "elapsed": 2196,
     "status": "ok",
     "timestamp": 1680646382783,
     "user": {
      "displayName": "Hassan Hammoud",
      "userId": "16161795926694958684"
     },
     "user_tz": 240
    },
    "id": "_S-WUEfRQ3FP",
    "outputId": "53bfcee1-c26c-4163-a503-935430570f4f",
    "tags": []
   },
   "outputs": [
    {
     "data": {
      "text/plain": [
       "userId       0\n",
       "productId    0\n",
       "rating       0\n",
       "timestamp    0\n",
       "dtype: int64"
      ]
     },
     "execution_count": 14,
     "metadata": {},
     "output_type": "execute_result"
    }
   ],
   "source": [
    "data.isnull().sum()"
   ]
  },
  {
   "cell_type": "code",
   "execution_count": 8,
   "metadata": {
    "colab": {
     "base_uri": "https://localhost:8080/",
     "height": 300
    },
    "executionInfo": {
     "elapsed": 522,
     "status": "ok",
     "timestamp": 1680646383304,
     "user": {
      "displayName": "Hassan Hammoud",
      "userId": "16161795926694958684"
     },
     "user_tz": 240
    },
    "id": "NjzypmmYRIs_",
    "outputId": "2dc22ea4-4a29-4863-b0fe-124b54836e91"
   },
   "outputs": [
    {
     "data": {
      "text/html": [
       "<div>\n",
       "<style scoped>\n",
       "    .dataframe tbody tr th:only-of-type {\n",
       "        vertical-align: middle;\n",
       "    }\n",
       "\n",
       "    .dataframe tbody tr th {\n",
       "        vertical-align: top;\n",
       "    }\n",
       "\n",
       "    .dataframe thead th {\n",
       "        text-align: right;\n",
       "    }\n",
       "</style>\n",
       "<table border=\"1\" class=\"dataframe\">\n",
       "  <thead>\n",
       "    <tr style=\"text-align: right;\">\n",
       "      <th></th>\n",
       "      <th>rating</th>\n",
       "      <th>timestamp</th>\n",
       "    </tr>\n",
       "  </thead>\n",
       "  <tbody>\n",
       "    <tr>\n",
       "      <th>count</th>\n",
       "      <td>7.824482e+06</td>\n",
       "      <td>7.824482e+06</td>\n",
       "    </tr>\n",
       "    <tr>\n",
       "      <th>mean</th>\n",
       "      <td>4.012337e+00</td>\n",
       "      <td>1.338178e+09</td>\n",
       "    </tr>\n",
       "    <tr>\n",
       "      <th>std</th>\n",
       "      <td>1.380910e+00</td>\n",
       "      <td>6.900426e+07</td>\n",
       "    </tr>\n",
       "    <tr>\n",
       "      <th>min</th>\n",
       "      <td>1.000000e+00</td>\n",
       "      <td>9.127296e+08</td>\n",
       "    </tr>\n",
       "    <tr>\n",
       "      <th>25%</th>\n",
       "      <td>3.000000e+00</td>\n",
       "      <td>1.315354e+09</td>\n",
       "    </tr>\n",
       "    <tr>\n",
       "      <th>50%</th>\n",
       "      <td>5.000000e+00</td>\n",
       "      <td>1.361059e+09</td>\n",
       "    </tr>\n",
       "    <tr>\n",
       "      <th>75%</th>\n",
       "      <td>5.000000e+00</td>\n",
       "      <td>1.386115e+09</td>\n",
       "    </tr>\n",
       "    <tr>\n",
       "      <th>max</th>\n",
       "      <td>5.000000e+00</td>\n",
       "      <td>1.406074e+09</td>\n",
       "    </tr>\n",
       "  </tbody>\n",
       "</table>\n",
       "</div>"
      ],
      "text/plain": [
       "             rating     timestamp\n",
       "count  7.824482e+06  7.824482e+06\n",
       "mean   4.012337e+00  1.338178e+09\n",
       "std    1.380910e+00  6.900426e+07\n",
       "min    1.000000e+00  9.127296e+08\n",
       "25%    3.000000e+00  1.315354e+09\n",
       "50%    5.000000e+00  1.361059e+09\n",
       "75%    5.000000e+00  1.386115e+09\n",
       "max    5.000000e+00  1.406074e+09"
      ]
     },
     "execution_count": 8,
     "metadata": {},
     "output_type": "execute_result"
    }
   ],
   "source": [
    "data.describe()"
   ]
  },
  {
   "cell_type": "code",
   "execution_count": 9,
   "metadata": {
    "colab": {
     "base_uri": "https://localhost:8080/"
    },
    "executionInfo": {
     "elapsed": 7,
     "status": "ok",
     "timestamp": 1680646383305,
     "user": {
      "displayName": "Hassan Hammoud",
      "userId": "16161795926694958684"
     },
     "user_tz": 240
    },
    "id": "vL-rf4YZRI6U",
    "outputId": "4c32cf00-8392-4231-d6d9-e5d2373a7bf0"
   },
   "outputs": [
    {
     "data": {
      "text/plain": [
       "5.0    4347541\n",
       "4.0    1485781\n",
       "1.0     901765\n",
       "3.0     633073\n",
       "2.0     456322\n",
       "Name: rating, dtype: int64"
      ]
     },
     "execution_count": 9,
     "metadata": {},
     "output_type": "execute_result"
    }
   ],
   "source": [
    "data['rating'].value_counts()"
   ]
  },
  {
   "cell_type": "code",
   "execution_count": 10,
   "metadata": {
    "executionInfo": {
     "elapsed": 739,
     "status": "ok",
     "timestamp": 1680646668097,
     "user": {
      "displayName": "Hassan Hammoud",
      "userId": "16161795926694958684"
     },
     "user_tz": 240
    },
    "id": "Zfy3jLfERJTp"
   },
   "outputs": [
    {
     "data": {
      "text/plain": [
       "(7824482, 4)"
      ]
     },
     "execution_count": 10,
     "metadata": {},
     "output_type": "execute_result"
    }
   ],
   "source": [
    "data.shape\n",
    "#7824482 rows, so grab the first 3912241 rows\n",
    "#TEMPORAL DATASET SHIFT, ONLY UNCOMMENT WHEN DOING DATA SHIFT\n",
    "#data=data.sort_values(by='timestamp')[0:3912241]"
   ]
  },
  {
   "cell_type": "code",
   "execution_count": 15,
   "metadata": {
    "executionInfo": {
     "elapsed": 2457,
     "status": "ok",
     "timestamp": 1680646670551,
     "user": {
      "displayName": "Hassan Hammoud",
      "userId": "16161795926694958684"
     },
     "user_tz": 240
    },
    "id": "YsxiHzd4MGEm",
    "tags": []
   },
   "outputs": [],
   "source": [
    "train, test = python_random_split(data, ratio=0.70, seed=42)"
   ]
  },
  {
   "cell_type": "code",
   "execution_count": 16,
   "metadata": {
    "colab": {
     "base_uri": "https://localhost:8080/",
     "height": 206
    },
    "executionInfo": {
     "elapsed": 13456,
     "status": "ok",
     "timestamp": 1680646684005,
     "user": {
      "displayName": "Hassan Hammoud",
      "userId": "16161795926694958684"
     },
     "user_tz": 240
    },
    "id": "1eYzhYXyMHrI",
    "outputId": "8b791a92-13ec-42ad-ba1a-e07d6d604dee",
    "tags": []
   },
   "outputs": [
    {
     "data": {
      "text/html": [
       "<div>\n",
       "<style scoped>\n",
       "    .dataframe tbody tr th:only-of-type {\n",
       "        vertical-align: middle;\n",
       "    }\n",
       "\n",
       "    .dataframe tbody tr th {\n",
       "        vertical-align: top;\n",
       "    }\n",
       "\n",
       "    .dataframe thead th {\n",
       "        text-align: right;\n",
       "    }\n",
       "</style>\n",
       "<table border=\"1\" class=\"dataframe\">\n",
       "  <thead>\n",
       "    <tr style=\"text-align: right;\">\n",
       "      <th></th>\n",
       "      <th>userId</th>\n",
       "      <th>AvgRating</th>\n",
       "    </tr>\n",
       "  </thead>\n",
       "  <tbody>\n",
       "    <tr>\n",
       "      <th>0</th>\n",
       "      <td>A100UD67AHFODS</td>\n",
       "      <td>4.777778</td>\n",
       "    </tr>\n",
       "    <tr>\n",
       "      <th>1</th>\n",
       "      <td>A100WO06OQR8BQ</td>\n",
       "      <td>3.368421</td>\n",
       "    </tr>\n",
       "    <tr>\n",
       "      <th>2</th>\n",
       "      <td>A105S56ODHGJEK</td>\n",
       "      <td>3.971429</td>\n",
       "    </tr>\n",
       "    <tr>\n",
       "      <th>3</th>\n",
       "      <td>A105TOJ6LTVMBG</td>\n",
       "      <td>3.888889</td>\n",
       "    </tr>\n",
       "    <tr>\n",
       "      <th>4</th>\n",
       "      <td>A10AFVU66A79Y1</td>\n",
       "      <td>4.400000</td>\n",
       "    </tr>\n",
       "  </tbody>\n",
       "</table>\n",
       "</div>"
      ],
      "text/plain": [
       "           userId  AvgRating\n",
       "0  A100UD67AHFODS   4.777778\n",
       "1  A100WO06OQR8BQ   3.368421\n",
       "2  A105S56ODHGJEK   3.971429\n",
       "3  A105TOJ6LTVMBG   3.888889\n",
       "4  A10AFVU66A79Y1   4.400000"
      ]
     },
     "execution_count": 16,
     "metadata": {},
     "output_type": "execute_result"
    }
   ],
   "source": [
    "#colnames\n",
    "#userId       \n",
    "#productId    \n",
    "#rating       \n",
    "#timestamp    \n",
    "\n",
    "users_ratings = train.groupby(['userId'])['rating'].mean()\n",
    "users_ratings = users_ratings.to_frame().reset_index()\n",
    "users_ratings.rename(columns = {'rating': 'AvgRating'}, inplace = True)\n",
    "\n",
    "users_ratings.head()\n",
    "#takes about 25s"
   ]
  },
  {
   "cell_type": "code",
   "execution_count": 17,
   "metadata": {
    "colab": {
     "base_uri": "https://localhost:8080/",
     "height": 49
    },
    "executionInfo": {
     "elapsed": 3815,
     "status": "ok",
     "timestamp": 1680646687817,
     "user": {
      "displayName": "Hassan Hammoud",
      "userId": "16161795926694958684"
     },
     "user_tz": 240
    },
    "id": "kyj7sKNsMIC2",
    "outputId": "9fb62173-e8b4-4ee1-852d-f2455f1e4dfd",
    "tags": []
   },
   "outputs": [
    {
     "data": {
      "text/html": [
       "<div>\n",
       "<style scoped>\n",
       "    .dataframe tbody tr th:only-of-type {\n",
       "        vertical-align: middle;\n",
       "    }\n",
       "\n",
       "    .dataframe tbody tr th {\n",
       "        vertical-align: top;\n",
       "    }\n",
       "\n",
       "    .dataframe thead th {\n",
       "        text-align: right;\n",
       "    }\n",
       "</style>\n",
       "<table border=\"1\" class=\"dataframe\">\n",
       "  <thead>\n",
       "    <tr style=\"text-align: right;\">\n",
       "      <th></th>\n",
       "      <th>userId</th>\n",
       "      <th>productId</th>\n",
       "      <th>rating</th>\n",
       "      <th>timestamp</th>\n",
       "      <th>AvgRating</th>\n",
       "    </tr>\n",
       "  </thead>\n",
       "  <tbody>\n",
       "  </tbody>\n",
       "</table>\n",
       "</div>"
      ],
      "text/plain": [
       "Empty DataFrame\n",
       "Columns: [userId, productId, rating, timestamp, AvgRating]\n",
       "Index: []"
      ]
     },
     "execution_count": 17,
     "metadata": {},
     "output_type": "execute_result"
    }
   ],
   "source": [
    "baseline_predictions = pd.merge(test, users_ratings, on=['userId'], how='inner')\n",
    "#takes about 10s"
   ]
  },
  {
   "cell_type": "code",
   "execution_count": 18,
   "metadata": {
    "colab": {
     "base_uri": "https://localhost:8080/"
    },
    "executionInfo": {
     "elapsed": 15659,
     "status": "ok",
     "timestamp": 1680646703472,
     "user": {
      "displayName": "Hassan Hammoud",
      "userId": "16161795926694958684"
     },
     "user_tz": 240
    },
    "id": "0OlAue1JMG3g",
    "outputId": "6ddb7c0d-ab54-4914-f565-02b3ce865531",
    "tags": []
   },
   "outputs": [
    {
     "name": "stdout",
     "output_type": "stream",
     "text": [
      "RMSE:\t\t0.947405\n",
      "MAE:\t\t0.697097\n",
      "rsquared:\t0.068852\n",
      "exp var:\t0.069041\n"
     ]
    }
   ],
   "source": [
    "baseline_predictions = baseline_predictions[['userId', 'productId', 'AvgRating']]\n",
    "\n",
    "cols = {\n",
    "    'col_user': 'userId',\n",
    "    'col_item': 'productId',\n",
    "    'col_rating': 'rating',\n",
    "    'col_prediction': 'AvgRating',\n",
    "}\n",
    "\n",
    "eval_rmse = rmse(test, baseline_predictions, **cols)\n",
    "eval_mae = mae(test, baseline_predictions, **cols)\n",
    "eval_rsquared = rsquared(test, baseline_predictions, **cols)\n",
    "eval_exp_var = exp_var(test, baseline_predictions, **cols)\n",
    "\n",
    "print(\"RMSE:\\t\\t%f\" % eval_rmse,\n",
    "      \"MAE:\\t\\t%f\" % eval_mae,\n",
    "      \"rsquared:\\t%f\" % eval_rsquared,\n",
    "      \"exp var:\\t%f\" % eval_exp_var, sep='\\n')\n",
    "\n",
    "\n",
    "#takes about 40sec"
   ]
  },
  {
   "cell_type": "code",
   "execution_count": 20,
   "metadata": {
    "colab": {
     "base_uri": "https://localhost:8080/",
     "height": 206
    },
    "executionInfo": {
     "elapsed": 4,
     "status": "ok",
     "timestamp": 1680646703751,
     "user": {
      "displayName": "Hassan Hammoud",
      "userId": "16161795926694958684"
     },
     "user_tz": 240
    },
    "id": "-VPA0PjuMUct",
    "outputId": "8c699b03-3d4b-44db-8ca7-9c97f6486ff9",
    "tags": []
   },
   "outputs": [
    {
     "data": {
      "text/html": [
       "<div>\n",
       "<style scoped>\n",
       "    .dataframe tbody tr th:only-of-type {\n",
       "        vertical-align: middle;\n",
       "    }\n",
       "\n",
       "    .dataframe tbody tr th {\n",
       "        vertical-align: top;\n",
       "    }\n",
       "\n",
       "    .dataframe thead th {\n",
       "        text-align: right;\n",
       "    }\n",
       "</style>\n",
       "<table border=\"1\" class=\"dataframe\">\n",
       "  <thead>\n",
       "    <tr style=\"text-align: right;\">\n",
       "      <th></th>\n",
       "      <th>productId</th>\n",
       "      <th>Count</th>\n",
       "    </tr>\n",
       "  </thead>\n",
       "  <tbody>\n",
       "    <tr>\n",
       "      <th>0</th>\n",
       "      <td>B0088CJT4U</td>\n",
       "      <td>148</td>\n",
       "    </tr>\n",
       "    <tr>\n",
       "      <th>1</th>\n",
       "      <td>B003ES5ZUU</td>\n",
       "      <td>124</td>\n",
       "    </tr>\n",
       "    <tr>\n",
       "      <th>2</th>\n",
       "      <td>B000N99BBC</td>\n",
       "      <td>119</td>\n",
       "    </tr>\n",
       "    <tr>\n",
       "      <th>3</th>\n",
       "      <td>B007WTAJTO</td>\n",
       "      <td>113</td>\n",
       "    </tr>\n",
       "    <tr>\n",
       "      <th>4</th>\n",
       "      <td>B00829TIEK</td>\n",
       "      <td>103</td>\n",
       "    </tr>\n",
       "  </tbody>\n",
       "</table>\n",
       "</div>"
      ],
      "text/plain": [
       "    productId  Count\n",
       "0  B0088CJT4U    148\n",
       "1  B003ES5ZUU    124\n",
       "2  B000N99BBC    119\n",
       "3  B007WTAJTO    113\n",
       "4  B00829TIEK    103"
      ]
     },
     "execution_count": 20,
     "metadata": {},
     "output_type": "execute_result"
    }
   ],
   "source": [
    "item_counts = train['productId'].value_counts().to_frame().reset_index()\n",
    "item_counts.columns = ['productId', 'Count']\n",
    "item_counts.head()"
   ]
  },
  {
   "cell_type": "code",
   "execution_count": 21,
   "metadata": {
    "executionInfo": {
     "elapsed": 295,
     "status": "ok",
     "timestamp": 1680646755995,
     "user": {
      "displayName": "Hassan Hammoud",
      "userId": "16161795926694958684"
     },
     "user_tz": 240
    },
    "id": "_C0q6n4BMUxP",
    "tags": []
   },
   "outputs": [
    {
     "name": "stdout",
     "output_type": "stream",
     "text": [
      "Number of user-item pairs: 3374133\n",
      "After remove seen items: 3344299\n"
     ]
    }
   ],
   "source": [
    "user_item_col = ['userId', 'productId']\n",
    "\n",
    "# # Cross join users and items\n",
    "test_users = test['userId'].unique()\n",
    "user_item_list = list(itertools.product(test_users, item_counts['productId']))\n",
    "users_items = pd.DataFrame(user_item_list, columns=user_item_col)\n",
    "\n",
    "print(\"Number of user-item pairs:\", len(users_items))\n",
    "\n",
    " # Remove seen items (items in the train set) as we will not recommend those again to the users\n",
    "users_items_remove_seen = filter_by(users_items, train, user_item_col)\n",
    "\n",
    "print(\"After remove seen items:\", len(users_items_remove_seen))\n",
    "\n",
    "#takes about \n",
    "#currently crashes ram.."
   ]
  },
  {
   "cell_type": "code",
   "execution_count": 22,
   "metadata": {
    "colab": {
     "base_uri": "https://localhost:8080/",
     "height": 183
    },
    "executionInfo": {
     "elapsed": 5,
     "status": "error",
     "timestamp": 1680646704168,
     "user": {
      "displayName": "Hassan Hammoud",
      "userId": "16161795926694958684"
     },
     "user_tz": 240
    },
    "id": "TfRT-LxiMXr2",
    "outputId": "aa53deee-2645-46c3-d22f-0874b535c0d7",
    "tags": []
   },
   "outputs": [
    {
     "data": {
      "text/html": [
       "<div>\n",
       "<style scoped>\n",
       "    .dataframe tbody tr th:only-of-type {\n",
       "        vertical-align: middle;\n",
       "    }\n",
       "\n",
       "    .dataframe tbody tr th {\n",
       "        vertical-align: top;\n",
       "    }\n",
       "\n",
       "    .dataframe thead th {\n",
       "        text-align: right;\n",
       "    }\n",
       "</style>\n",
       "<table border=\"1\" class=\"dataframe\">\n",
       "  <thead>\n",
       "    <tr style=\"text-align: right;\">\n",
       "      <th></th>\n",
       "      <th>productId</th>\n",
       "      <th>Count</th>\n",
       "      <th>userId</th>\n",
       "    </tr>\n",
       "  </thead>\n",
       "  <tbody>\n",
       "    <tr>\n",
       "      <th>0</th>\n",
       "      <td>B0088CJT4U</td>\n",
       "      <td>148</td>\n",
       "      <td>A28J3123I1QDKI</td>\n",
       "    </tr>\n",
       "    <tr>\n",
       "      <th>1</th>\n",
       "      <td>B0088CJT4U</td>\n",
       "      <td>148</td>\n",
       "      <td>AKX9EQ37PAYMY</td>\n",
       "    </tr>\n",
       "    <tr>\n",
       "      <th>2</th>\n",
       "      <td>B0088CJT4U</td>\n",
       "      <td>148</td>\n",
       "      <td>A2J8T58Z4X15IO</td>\n",
       "    </tr>\n",
       "    <tr>\n",
       "      <th>3</th>\n",
       "      <td>B0088CJT4U</td>\n",
       "      <td>148</td>\n",
       "      <td>A5KMMY627T3W</td>\n",
       "    </tr>\n",
       "    <tr>\n",
       "      <th>4</th>\n",
       "      <td>B0088CJT4U</td>\n",
       "      <td>148</td>\n",
       "      <td>A3B20R4ZAH0Y2Y</td>\n",
       "    </tr>\n",
       "  </tbody>\n",
       "</table>\n",
       "</div>"
      ],
      "text/plain": [
       "    productId  Count          userId\n",
       "0  B0088CJT4U    148  A28J3123I1QDKI\n",
       "1  B0088CJT4U    148   AKX9EQ37PAYMY\n",
       "2  B0088CJT4U    148  A2J8T58Z4X15IO\n",
       "3  B0088CJT4U    148    A5KMMY627T3W\n",
       "4  B0088CJT4U    148  A3B20R4ZAH0Y2Y"
      ]
     },
     "execution_count": 22,
     "metadata": {},
     "output_type": "execute_result"
    }
   ],
   "source": [
    "baseline_recommendations = pd.merge(item_counts, users_items_remove_seen, on=['productId'], how='inner')\n",
    "baseline_recommendations.head()"
   ]
  },
  {
   "cell_type": "code",
   "execution_count": 23,
   "metadata": {
    "executionInfo": {
     "elapsed": 4,
     "status": "aborted",
     "timestamp": 1680646704168,
     "user": {
      "displayName": "Hassan Hammoud",
      "userId": "16161795926694958684"
     },
     "user_tz": 240
    },
    "id": "CoTkbGldMaOE",
    "tags": []
   },
   "outputs": [
    {
     "name": "stdout",
     "output_type": "stream",
     "text": [
      "MAP:\t0.012668\n",
      "NDCG@K:\t0.040214\n",
      "Precision@K:\t0.032059\n",
      "Recall@K:\t0.033992\n"
     ]
    }
   ],
   "source": [
    "k = 10\n",
    "\n",
    "cols['col_prediction'] = 'Count'\n",
    "\n",
    "eval_map = map_at_k(test, baseline_recommendations, k=k, **cols)\n",
    "eval_ndcg = ndcg_at_k(test, baseline_recommendations, k=k, **cols)\n",
    "eval_precision = precision_at_k(test, baseline_recommendations, k=k, **cols)\n",
    "eval_recall = recall_at_k(test, baseline_recommendations, k=k, **cols)\n",
    "\n",
    "print(\"MAP:\\t%f\" % eval_map,\n",
    "      \"NDCG@K:\\t%f\" % eval_ndcg,\n",
    "      \"Precision@K:\\t%f\" % eval_precision,\n",
    "      \"Recall@K:\\t%f\" % eval_recall, sep='\\n')\n",
    "#takes about 16s with filtered data"
   ]
  }
 ],
 "metadata": {
  "colab": {
   "provenance": [],
   "toc_visible": true
  },
  "kernelspec": {
   "display_name": "Python 3",
   "language": "python",
   "name": "python3"
  },
  "language_info": {
   "codemirror_mode": {
    "name": "ipython",
    "version": 3
   },
   "file_extension": ".py",
   "mimetype": "text/x-python",
   "name": "python",
   "nbconvert_exporter": "python",
   "pygments_lexer": "ipython3",
   "version": "3.9.16"
  }
 },
 "nbformat": 4,
 "nbformat_minor": 4
}
