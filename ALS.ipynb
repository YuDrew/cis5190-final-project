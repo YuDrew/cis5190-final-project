{
 "cells": [
  {
   "cell_type": "code",
   "execution_count": 1,
   "id": "0d2f6f1c-5f10-42b8-bc95-c6c05b6aad63",
   "metadata": {
    "tags": []
   },
   "outputs": [],
   "source": [
    "%%capture\n",
    "import random \n",
    "import numpy as np\n",
    "import pandas as pd\n",
    "import os\n",
    "import sys\n",
    "import matplotlib.pyplot as plt\n",
    "from numpy.linalg import *\n",
    "from scipy.spatial import distance\n",
    "from sklearn import preprocessing\n",
    "from sklearn.preprocessing import StandardScaler\n",
    "np.random.seed(42)  # don't change this line\n",
    "\n",
    "import base64\n",
    "import datetime\n",
    "!pip install recommenders"
   ]
  },
  {
   "cell_type": "code",
   "execution_count": 2,
   "id": "6ca26939-a8cd-4534-95bf-a55304001741",
   "metadata": {
    "tags": []
   },
   "outputs": [
    {
     "name": "stdout",
     "output_type": "stream",
     "text": [
      "System version: 3.9.15 | packaged by conda-forge | (main, Nov 22 2022, 08:45:29) \n",
      "[GCC 10.4.0]\n",
      "Pandas version: 1.4.4\n",
      "PySpark version: 3.3.0\n"
     ]
    }
   ],
   "source": [
    "import sys\n",
    "import pandas as pd\n",
    "from matplotlib import pyplot as plt\n",
    "import numpy as np\n",
    "import seaborn as sns\n",
    "import sys\n",
    "import pandas as pd\n",
    "import warnings\n",
    "warnings.simplefilter(action='ignore', category=FutureWarning)\n",
    "\n",
    "import pyspark\n",
    "from pyspark.sql import SparkSession\n",
    "from pyspark.ml.recommendation import ALS\n",
    "import pyspark.sql.functions as F\n",
    "from pyspark.sql.functions import col\n",
    "from pyspark.ml.tuning import CrossValidator\n",
    "from pyspark.sql.types import StructType, StructField\n",
    "from pyspark.sql.types import FloatType, IntegerType, LongType\n",
    "\n",
    "from recommenders.datasets import movielens\n",
    "from recommenders.utils.spark_utils import start_or_get_spark\n",
    "from recommenders.evaluation.spark_evaluation import SparkRankingEvaluation, SparkRatingEvaluation\n",
    "from recommenders.tuning.parameter_sweep import generate_param_grid\n",
    "from recommenders.datasets.spark_splitters import spark_random_split\n",
    "\n",
    "print(\"System version: {}\".format(sys.version))\n",
    "print(\"Pandas version: {}\".format(pd.__version__))\n",
    "print(\"PySpark version: {}\".format(pyspark.__version__))"
   ]
  },
  {
   "cell_type": "code",
   "execution_count": 58,
   "id": "dc1013e4-d3ad-4bee-8456-299c4656a4ef",
   "metadata": {
    "tags": []
   },
   "outputs": [
    {
     "data": {
      "text/html": [
       "<div>\n",
       "<style scoped>\n",
       "    .dataframe tbody tr th:only-of-type {\n",
       "        vertical-align: middle;\n",
       "    }\n",
       "\n",
       "    .dataframe tbody tr th {\n",
       "        vertical-align: top;\n",
       "    }\n",
       "\n",
       "    .dataframe thead th {\n",
       "        text-align: right;\n",
       "    }\n",
       "</style>\n",
       "<table border=\"1\" class=\"dataframe\">\n",
       "  <thead>\n",
       "    <tr style=\"text-align: right;\">\n",
       "      <th></th>\n",
       "      <th>userId</th>\n",
       "      <th>productId</th>\n",
       "      <th>rating</th>\n",
       "      <th>timestamp</th>\n",
       "    </tr>\n",
       "  </thead>\n",
       "  <tbody>\n",
       "    <tr>\n",
       "      <th>0</th>\n",
       "      <td>AKM1MP6P0OYPR</td>\n",
       "      <td>0132793040</td>\n",
       "      <td>5.0</td>\n",
       "      <td>1365811200</td>\n",
       "    </tr>\n",
       "    <tr>\n",
       "      <th>1</th>\n",
       "      <td>A2CX7LUOHB2NDG</td>\n",
       "      <td>0321732944</td>\n",
       "      <td>5.0</td>\n",
       "      <td>1341100800</td>\n",
       "    </tr>\n",
       "    <tr>\n",
       "      <th>2</th>\n",
       "      <td>A2NWSAGRHCP8N5</td>\n",
       "      <td>0439886341</td>\n",
       "      <td>1.0</td>\n",
       "      <td>1367193600</td>\n",
       "    </tr>\n",
       "    <tr>\n",
       "      <th>3</th>\n",
       "      <td>A2WNBOD3WNDNKT</td>\n",
       "      <td>0439886341</td>\n",
       "      <td>3.0</td>\n",
       "      <td>1374451200</td>\n",
       "    </tr>\n",
       "    <tr>\n",
       "      <th>4</th>\n",
       "      <td>A1GI0U4ZRJA8WN</td>\n",
       "      <td>0439886341</td>\n",
       "      <td>1.0</td>\n",
       "      <td>1334707200</td>\n",
       "    </tr>\n",
       "    <tr>\n",
       "      <th>...</th>\n",
       "      <td>...</td>\n",
       "      <td>...</td>\n",
       "      <td>...</td>\n",
       "      <td>...</td>\n",
       "    </tr>\n",
       "    <tr>\n",
       "      <th>7824477</th>\n",
       "      <td>A2YZI3C9MOHC0L</td>\n",
       "      <td>BT008UKTMW</td>\n",
       "      <td>5.0</td>\n",
       "      <td>1396569600</td>\n",
       "    </tr>\n",
       "    <tr>\n",
       "      <th>7824478</th>\n",
       "      <td>A322MDK0M89RHN</td>\n",
       "      <td>BT008UKTMW</td>\n",
       "      <td>5.0</td>\n",
       "      <td>1313366400</td>\n",
       "    </tr>\n",
       "    <tr>\n",
       "      <th>7824479</th>\n",
       "      <td>A1MH90R0ADMIK0</td>\n",
       "      <td>BT008UKTMW</td>\n",
       "      <td>4.0</td>\n",
       "      <td>1404172800</td>\n",
       "    </tr>\n",
       "    <tr>\n",
       "      <th>7824480</th>\n",
       "      <td>A10M2KEFPEQDHN</td>\n",
       "      <td>BT008UKTMW</td>\n",
       "      <td>4.0</td>\n",
       "      <td>1297555200</td>\n",
       "    </tr>\n",
       "    <tr>\n",
       "      <th>7824481</th>\n",
       "      <td>A2G81TMIOIDEQQ</td>\n",
       "      <td>BT008V9J9U</td>\n",
       "      <td>5.0</td>\n",
       "      <td>1312675200</td>\n",
       "    </tr>\n",
       "  </tbody>\n",
       "</table>\n",
       "<p>7824482 rows × 4 columns</p>\n",
       "</div>"
      ],
      "text/plain": [
       "                 userId   productId  rating   timestamp\n",
       "0         AKM1MP6P0OYPR  0132793040     5.0  1365811200\n",
       "1        A2CX7LUOHB2NDG  0321732944     5.0  1341100800\n",
       "2        A2NWSAGRHCP8N5  0439886341     1.0  1367193600\n",
       "3        A2WNBOD3WNDNKT  0439886341     3.0  1374451200\n",
       "4        A1GI0U4ZRJA8WN  0439886341     1.0  1334707200\n",
       "...                 ...         ...     ...         ...\n",
       "7824477  A2YZI3C9MOHC0L  BT008UKTMW     5.0  1396569600\n",
       "7824478  A322MDK0M89RHN  BT008UKTMW     5.0  1313366400\n",
       "7824479  A1MH90R0ADMIK0  BT008UKTMW     4.0  1404172800\n",
       "7824480  A10M2KEFPEQDHN  BT008UKTMW     4.0  1297555200\n",
       "7824481  A2G81TMIOIDEQQ  BT008V9J9U     5.0  1312675200\n",
       "\n",
       "[7824482 rows x 4 columns]"
      ]
     },
     "execution_count": 58,
     "metadata": {},
     "output_type": "execute_result"
    }
   ],
   "source": [
    "path = \"https://5190-hav-recommendation-data.s3.us-east-1.amazonaws.com/ratings_Electronics.csv\"\n",
    "data = pd.read_csv(path, header=None)\n",
    "data.columns = ['userId', 'productId', 'rating', 'timestamp']\n",
    "data\n",
    "#takes 10s or so"
   ]
  },
  {
   "cell_type": "code",
   "execution_count": null,
   "id": "858d0804-fef0-4f72-a9f2-b232a0436ab4",
   "metadata": {},
   "outputs": [],
   "source": []
  },
  {
   "cell_type": "code",
   "execution_count": 59,
   "id": "5260f803-63e6-43d7-88ee-a739d9c864c9",
   "metadata": {},
   "outputs": [
    {
     "name": "stdout",
     "output_type": "stream",
     "text": [
      "(125871, 5)\n"
     ]
    },
    {
     "data": {
      "text/html": [
       "<div>\n",
       "<style scoped>\n",
       "    .dataframe tbody tr th:only-of-type {\n",
       "        vertical-align: middle;\n",
       "    }\n",
       "\n",
       "    .dataframe tbody tr th {\n",
       "        vertical-align: top;\n",
       "    }\n",
       "\n",
       "    .dataframe thead th {\n",
       "        text-align: right;\n",
       "    }\n",
       "</style>\n",
       "<table border=\"1\" class=\"dataframe\">\n",
       "  <thead>\n",
       "    <tr style=\"text-align: right;\">\n",
       "      <th></th>\n",
       "      <th>userId</th>\n",
       "      <th>productId</th>\n",
       "      <th>rating</th>\n",
       "      <th>timestamp</th>\n",
       "      <th>user_rating_count</th>\n",
       "    </tr>\n",
       "  </thead>\n",
       "  <tbody>\n",
       "    <tr>\n",
       "      <th>94</th>\n",
       "      <td>A3BY5KCNQZXV5U</td>\n",
       "      <td>0594451647</td>\n",
       "      <td>5.0</td>\n",
       "      <td>1390176000</td>\n",
       "      <td>50</td>\n",
       "    </tr>\n",
       "    <tr>\n",
       "      <th>14863</th>\n",
       "      <td>A3BY5KCNQZXV5U</td>\n",
       "      <td>B00000JD4V</td>\n",
       "      <td>4.0</td>\n",
       "      <td>1118016000</td>\n",
       "      <td>50</td>\n",
       "    </tr>\n",
       "    <tr>\n",
       "      <th>134213</th>\n",
       "      <td>A3BY5KCNQZXV5U</td>\n",
       "      <td>B000063574</td>\n",
       "      <td>5.0</td>\n",
       "      <td>1016668800</td>\n",
       "      <td>50</td>\n",
       "    </tr>\n",
       "    <tr>\n",
       "      <th>338368</th>\n",
       "      <td>A3BY5KCNQZXV5U</td>\n",
       "      <td>B0000CDJP8</td>\n",
       "      <td>5.0</td>\n",
       "      <td>1258761600</td>\n",
       "      <td>50</td>\n",
       "    </tr>\n",
       "    <tr>\n",
       "      <th>634048</th>\n",
       "      <td>A3BY5KCNQZXV5U</td>\n",
       "      <td>B0007Y794O</td>\n",
       "      <td>5.0</td>\n",
       "      <td>1369872000</td>\n",
       "      <td>50</td>\n",
       "    </tr>\n",
       "  </tbody>\n",
       "</table>\n",
       "</div>"
      ],
      "text/plain": [
       "                userId   productId  rating   timestamp  user_rating_count\n",
       "94      A3BY5KCNQZXV5U  0594451647     5.0  1390176000                 50\n",
       "14863   A3BY5KCNQZXV5U  B00000JD4V     4.0  1118016000                 50\n",
       "134213  A3BY5KCNQZXV5U  B000063574     5.0  1016668800                 50\n",
       "338368  A3BY5KCNQZXV5U  B0000CDJP8     5.0  1258761600                 50\n",
       "634048  A3BY5KCNQZXV5U  B0007Y794O     5.0  1369872000                 50"
      ]
     },
     "execution_count": 59,
     "metadata": {},
     "output_type": "execute_result"
    }
   ],
   "source": [
    "user_rating_count = data['userId'].value_counts().rename('user_rating_count')\n",
    "augmented_amazon_data = data.merge(user_rating_count.to_frame(), left_on='userId', right_index=True)\n",
    "subset_df = augmented_amazon_data[augmented_amazon_data.user_rating_count >= 50]\n",
    "print(subset_df.shape)\n",
    "subset_df.head()\n",
    "#10s"
   ]
  },
  {
   "cell_type": "code",
   "execution_count": 5,
   "id": "897b2dbf-06ca-442b-82b7-b448506744cc",
   "metadata": {
    "tags": []
   },
   "outputs": [],
   "source": []
  },
  {
   "cell_type": "code",
   "execution_count": 60,
   "id": "482046ca-ee11-4d19-9d89-5a1d7505336d",
   "metadata": {
    "tags": []
   },
   "outputs": [
    {
     "data": {
      "text/html": [
       "<div>\n",
       "<style scoped>\n",
       "    .dataframe tbody tr th:only-of-type {\n",
       "        vertical-align: middle;\n",
       "    }\n",
       "\n",
       "    .dataframe tbody tr th {\n",
       "        vertical-align: top;\n",
       "    }\n",
       "\n",
       "    .dataframe thead th {\n",
       "        text-align: right;\n",
       "    }\n",
       "</style>\n",
       "<table border=\"1\" class=\"dataframe\">\n",
       "  <thead>\n",
       "    <tr style=\"text-align: right;\">\n",
       "      <th></th>\n",
       "      <th>userId</th>\n",
       "      <th>productId</th>\n",
       "      <th>rating</th>\n",
       "      <th>timestamp</th>\n",
       "      <th>user_rating_count</th>\n",
       "      <th>product_rating_counts</th>\n",
       "    </tr>\n",
       "  </thead>\n",
       "  <tbody>\n",
       "    <tr>\n",
       "      <th>634048</th>\n",
       "      <td>A3BY5KCNQZXV5U</td>\n",
       "      <td>B0007Y794O</td>\n",
       "      <td>5.0</td>\n",
       "      <td>1369872000</td>\n",
       "      <td>50</td>\n",
       "      <td>18</td>\n",
       "    </tr>\n",
       "    <tr>\n",
       "      <th>633970</th>\n",
       "      <td>AKT8TGIT6VVZ5</td>\n",
       "      <td>B0007Y794O</td>\n",
       "      <td>5.0</td>\n",
       "      <td>1147305600</td>\n",
       "      <td>192</td>\n",
       "      <td>18</td>\n",
       "    </tr>\n",
       "    <tr>\n",
       "      <th>633944</th>\n",
       "      <td>A1ILWPH1GHUXE2</td>\n",
       "      <td>B0007Y794O</td>\n",
       "      <td>4.0</td>\n",
       "      <td>1358553600</td>\n",
       "      <td>98</td>\n",
       "      <td>18</td>\n",
       "    </tr>\n",
       "    <tr>\n",
       "      <th>634073</th>\n",
       "      <td>A1ZM846Y7AUYD</td>\n",
       "      <td>B0007Y794O</td>\n",
       "      <td>4.0</td>\n",
       "      <td>1201132800</td>\n",
       "      <td>77</td>\n",
       "      <td>18</td>\n",
       "    </tr>\n",
       "    <tr>\n",
       "      <th>633998</th>\n",
       "      <td>A2ED50E3KWKUKW</td>\n",
       "      <td>B0007Y794O</td>\n",
       "      <td>5.0</td>\n",
       "      <td>1331856000</td>\n",
       "      <td>65</td>\n",
       "      <td>18</td>\n",
       "    </tr>\n",
       "  </tbody>\n",
       "</table>\n",
       "</div>"
      ],
      "text/plain": [
       "                userId   productId  rating   timestamp  user_rating_count  \\\n",
       "634048  A3BY5KCNQZXV5U  B0007Y794O     5.0  1369872000                 50   \n",
       "633970   AKT8TGIT6VVZ5  B0007Y794O     5.0  1147305600                192   \n",
       "633944  A1ILWPH1GHUXE2  B0007Y794O     4.0  1358553600                 98   \n",
       "634073   A1ZM846Y7AUYD  B0007Y794O     4.0  1201132800                 77   \n",
       "633998  A2ED50E3KWKUKW  B0007Y794O     5.0  1331856000                 65   \n",
       "\n",
       "        product_rating_counts  \n",
       "634048                     18  \n",
       "633970                     18  \n",
       "633944                     18  \n",
       "634073                     18  \n",
       "633998                     18  "
      ]
     },
     "execution_count": 60,
     "metadata": {},
     "output_type": "execute_result"
    }
   ],
   "source": [
    "product_rating_counts = subset_df['productId'].value_counts().rename('product_rating_counts')\n",
    "product_rating_data   = subset_df.merge(product_rating_counts.to_frame(),\n",
    "                                left_on='productId',\n",
    "                                right_index=True)\n",
    "product_rating_data = product_rating_data[product_rating_data.product_rating_counts >= 10]\n",
    "product_rating_data.head()"
   ]
  },
  {
   "cell_type": "code",
   "execution_count": 61,
   "id": "225641bb-472e-4a51-9090-bcb7312d20bf",
   "metadata": {
    "tags": []
   },
   "outputs": [],
   "source": [
    "data=product_rating_data"
   ]
  },
  {
   "cell_type": "code",
   "execution_count": 8,
   "id": "228b7a4e-5a9a-46d9-9e9f-9d943b569c4d",
   "metadata": {
    "tags": []
   },
   "outputs": [
    {
     "name": "stdout",
     "output_type": "stream",
     "text": [
      "userId                    object\n",
      "productId                 object\n",
      "rating                   float64\n",
      "timestamp                  int64\n",
      "user_rating_count          int64\n",
      "product_rating_counts      int64\n",
      "dtype: object\n"
     ]
    }
   ],
   "source": [
    "print(data.dtypes)"
   ]
  },
  {
   "cell_type": "code",
   "execution_count": 63,
   "id": "f6a5bf15-e4dc-44ba-99c4-496e5dd9125f",
   "metadata": {
    "tags": []
   },
   "outputs": [],
   "source": [
    "data.sort_values(by=['timestamp'],inplace=True)"
   ]
  },
  {
   "cell_type": "code",
   "execution_count": 64,
   "id": "135389ad-b009-4b4b-9ed9-92f20fcff03d",
   "metadata": {
    "tags": []
   },
   "outputs": [
    {
     "data": {
      "text/html": [
       "<div>\n",
       "<style scoped>\n",
       "    .dataframe tbody tr th:only-of-type {\n",
       "        vertical-align: middle;\n",
       "    }\n",
       "\n",
       "    .dataframe tbody tr th {\n",
       "        vertical-align: top;\n",
       "    }\n",
       "\n",
       "    .dataframe thead th {\n",
       "        text-align: right;\n",
       "    }\n",
       "</style>\n",
       "<table border=\"1\" class=\"dataframe\">\n",
       "  <thead>\n",
       "    <tr style=\"text-align: right;\">\n",
       "      <th></th>\n",
       "      <th>userId</th>\n",
       "      <th>productId</th>\n",
       "      <th>rating</th>\n",
       "      <th>timestamp</th>\n",
       "      <th>user_rating_count</th>\n",
       "      <th>product_rating_counts</th>\n",
       "    </tr>\n",
       "  </thead>\n",
       "  <tbody>\n",
       "    <tr>\n",
       "      <th>40702</th>\n",
       "      <td>A1RPTVW5VEOSI</td>\n",
       "      <td>B00004SB92</td>\n",
       "      <td>5.0</td>\n",
       "      <td>956966400</td>\n",
       "      <td>167</td>\n",
       "      <td>21</td>\n",
       "    </tr>\n",
       "    <tr>\n",
       "      <th>40387</th>\n",
       "      <td>AUITG1DJ3QUGK</td>\n",
       "      <td>B00004SB92</td>\n",
       "      <td>5.0</td>\n",
       "      <td>961200000</td>\n",
       "      <td>94</td>\n",
       "      <td>21</td>\n",
       "    </tr>\n",
       "    <tr>\n",
       "      <th>21343</th>\n",
       "      <td>A3A15L96IYUO6V</td>\n",
       "      <td>B00001P4XA</td>\n",
       "      <td>4.0</td>\n",
       "      <td>962236800</td>\n",
       "      <td>73</td>\n",
       "      <td>12</td>\n",
       "    </tr>\n",
       "    <tr>\n",
       "      <th>40261</th>\n",
       "      <td>ALUNVOQRXOZIA</td>\n",
       "      <td>B00004SB92</td>\n",
       "      <td>1.0</td>\n",
       "      <td>965347200</td>\n",
       "      <td>114</td>\n",
       "      <td>21</td>\n",
       "    </tr>\n",
       "    <tr>\n",
       "      <th>21317</th>\n",
       "      <td>ARXU3FESTWMJJ</td>\n",
       "      <td>B00001P4XA</td>\n",
       "      <td>3.0</td>\n",
       "      <td>966988800</td>\n",
       "      <td>137</td>\n",
       "      <td>12</td>\n",
       "    </tr>\n",
       "    <tr>\n",
       "      <th>...</th>\n",
       "      <td>...</td>\n",
       "      <td>...</td>\n",
       "      <td>...</td>\n",
       "      <td>...</td>\n",
       "      <td>...</td>\n",
       "      <td>...</td>\n",
       "    </tr>\n",
       "    <tr>\n",
       "      <th>7820216</th>\n",
       "      <td>A3G5MOHY1U635N</td>\n",
       "      <td>B00K91DB7Y</td>\n",
       "      <td>4.0</td>\n",
       "      <td>1405987200</td>\n",
       "      <td>80</td>\n",
       "      <td>26</td>\n",
       "    </tr>\n",
       "    <tr>\n",
       "      <th>7427171</th>\n",
       "      <td>A26BDXG9KVH7SU</td>\n",
       "      <td>B00DQZSIW8</td>\n",
       "      <td>4.0</td>\n",
       "      <td>1405987200</td>\n",
       "      <td>86</td>\n",
       "      <td>10</td>\n",
       "    </tr>\n",
       "    <tr>\n",
       "      <th>7801613</th>\n",
       "      <td>A3MFORLOKIOEQY</td>\n",
       "      <td>B00IVPU5BK</td>\n",
       "      <td>5.0</td>\n",
       "      <td>1405987200</td>\n",
       "      <td>103</td>\n",
       "      <td>12</td>\n",
       "    </tr>\n",
       "    <tr>\n",
       "      <th>7657417</th>\n",
       "      <td>A2R1HUYHXV7H18</td>\n",
       "      <td>B00FSA8VQ2</td>\n",
       "      <td>5.0</td>\n",
       "      <td>1405987200</td>\n",
       "      <td>59</td>\n",
       "      <td>35</td>\n",
       "    </tr>\n",
       "    <tr>\n",
       "      <th>7706434</th>\n",
       "      <td>A2R1HUYHXV7H18</td>\n",
       "      <td>B00GMTN96U</td>\n",
       "      <td>4.0</td>\n",
       "      <td>1406073600</td>\n",
       "      <td>59</td>\n",
       "      <td>17</td>\n",
       "    </tr>\n",
       "  </tbody>\n",
       "</table>\n",
       "<p>42941 rows × 6 columns</p>\n",
       "</div>"
      ],
      "text/plain": [
       "                 userId   productId  rating   timestamp  user_rating_count  \\\n",
       "40702     A1RPTVW5VEOSI  B00004SB92     5.0   956966400                167   \n",
       "40387     AUITG1DJ3QUGK  B00004SB92     5.0   961200000                 94   \n",
       "21343    A3A15L96IYUO6V  B00001P4XA     4.0   962236800                 73   \n",
       "40261     ALUNVOQRXOZIA  B00004SB92     1.0   965347200                114   \n",
       "21317     ARXU3FESTWMJJ  B00001P4XA     3.0   966988800                137   \n",
       "...                 ...         ...     ...         ...                ...   \n",
       "7820216  A3G5MOHY1U635N  B00K91DB7Y     4.0  1405987200                 80   \n",
       "7427171  A26BDXG9KVH7SU  B00DQZSIW8     4.0  1405987200                 86   \n",
       "7801613  A3MFORLOKIOEQY  B00IVPU5BK     5.0  1405987200                103   \n",
       "7657417  A2R1HUYHXV7H18  B00FSA8VQ2     5.0  1405987200                 59   \n",
       "7706434  A2R1HUYHXV7H18  B00GMTN96U     4.0  1406073600                 59   \n",
       "\n",
       "         product_rating_counts  \n",
       "40702                       21  \n",
       "40387                       21  \n",
       "21343                       12  \n",
       "40261                       21  \n",
       "21317                       12  \n",
       "...                        ...  \n",
       "7820216                     26  \n",
       "7427171                     10  \n",
       "7801613                     12  \n",
       "7657417                     35  \n",
       "7706434                     17  \n",
       "\n",
       "[42941 rows x 6 columns]"
      ]
     },
     "execution_count": 64,
     "metadata": {},
     "output_type": "execute_result"
    }
   ],
   "source": [
    "data"
   ]
  },
  {
   "cell_type": "code",
   "execution_count": 65,
   "id": "0a29ec35-06f7-4e7a-bcfd-972c890d4d9a",
   "metadata": {
    "tags": []
   },
   "outputs": [
    {
     "data": {
      "text/html": [
       "<div>\n",
       "<style scoped>\n",
       "    .dataframe tbody tr th:only-of-type {\n",
       "        vertical-align: middle;\n",
       "    }\n",
       "\n",
       "    .dataframe tbody tr th {\n",
       "        vertical-align: top;\n",
       "    }\n",
       "\n",
       "    .dataframe thead th {\n",
       "        text-align: right;\n",
       "    }\n",
       "</style>\n",
       "<table border=\"1\" class=\"dataframe\">\n",
       "  <thead>\n",
       "    <tr style=\"text-align: right;\">\n",
       "      <th></th>\n",
       "      <th>userId</th>\n",
       "      <th>index</th>\n",
       "    </tr>\n",
       "  </thead>\n",
       "  <tbody>\n",
       "    <tr>\n",
       "      <th>0</th>\n",
       "      <td>A1RPTVW5VEOSI</td>\n",
       "      <td>1</td>\n",
       "    </tr>\n",
       "    <tr>\n",
       "      <th>1</th>\n",
       "      <td>AUITG1DJ3QUGK</td>\n",
       "      <td>2</td>\n",
       "    </tr>\n",
       "    <tr>\n",
       "      <th>2</th>\n",
       "      <td>A3A15L96IYUO6V</td>\n",
       "      <td>3</td>\n",
       "    </tr>\n",
       "    <tr>\n",
       "      <th>3</th>\n",
       "      <td>ALUNVOQRXOZIA</td>\n",
       "      <td>4</td>\n",
       "    </tr>\n",
       "    <tr>\n",
       "      <th>4</th>\n",
       "      <td>ARXU3FESTWMJJ</td>\n",
       "      <td>5</td>\n",
       "    </tr>\n",
       "    <tr>\n",
       "      <th>...</th>\n",
       "      <td>...</td>\n",
       "      <td>...</td>\n",
       "    </tr>\n",
       "    <tr>\n",
       "      <th>1527</th>\n",
       "      <td>AC9QEWWN4W9MC</td>\n",
       "      <td>1528</td>\n",
       "    </tr>\n",
       "    <tr>\n",
       "      <th>1528</th>\n",
       "      <td>AGILRZOT49R0V</td>\n",
       "      <td>1529</td>\n",
       "    </tr>\n",
       "    <tr>\n",
       "      <th>1529</th>\n",
       "      <td>A3TR3KLL5PXSZ8</td>\n",
       "      <td>1530</td>\n",
       "    </tr>\n",
       "    <tr>\n",
       "      <th>1530</th>\n",
       "      <td>A3SU7JSTPH9CC9</td>\n",
       "      <td>1531</td>\n",
       "    </tr>\n",
       "    <tr>\n",
       "      <th>1531</th>\n",
       "      <td>A1Z7U9K6X3FEOU</td>\n",
       "      <td>1532</td>\n",
       "    </tr>\n",
       "  </tbody>\n",
       "</table>\n",
       "<p>1532 rows × 2 columns</p>\n",
       "</div>"
      ],
      "text/plain": [
       "              userId  index\n",
       "0      A1RPTVW5VEOSI      1\n",
       "1      AUITG1DJ3QUGK      2\n",
       "2     A3A15L96IYUO6V      3\n",
       "3      ALUNVOQRXOZIA      4\n",
       "4      ARXU3FESTWMJJ      5\n",
       "...              ...    ...\n",
       "1527   AC9QEWWN4W9MC   1528\n",
       "1528   AGILRZOT49R0V   1529\n",
       "1529  A3TR3KLL5PXSZ8   1530\n",
       "1530  A3SU7JSTPH9CC9   1531\n",
       "1531  A1Z7U9K6X3FEOU   1532\n",
       "\n",
       "[1532 rows x 2 columns]"
      ]
     },
     "execution_count": 65,
     "metadata": {},
     "output_type": "execute_result"
    }
   ],
   "source": [
    "ind=pd.DataFrame(data.userId.unique())\n",
    "ind['index']=range(1, len(ind) + 1)\n",
    "ind.rename(columns={0:'userId'},inplace=True)\n",
    "ind\n",
    "#data.join(ind,on='userId')"
   ]
  },
  {
   "cell_type": "code",
   "execution_count": 10,
   "id": "bb88bff6-7d07-4af4-adfe-8735c2057db1",
   "metadata": {
    "tags": []
   },
   "outputs": [
    {
     "data": {
      "text/plain": [
       "userId                    object\n",
       "productId                 object\n",
       "rating                   float64\n",
       "timestamp                  int64\n",
       "user_rating_count          int64\n",
       "product_rating_counts      int64\n",
       "dtype: object"
      ]
     },
     "execution_count": 10,
     "metadata": {},
     "output_type": "execute_result"
    }
   ],
   "source": [
    "data.dtypes"
   ]
  },
  {
   "cell_type": "code",
   "execution_count": 11,
   "id": "7e696b91-85bb-47a0-8231-1d857aa8c4ea",
   "metadata": {
    "tags": []
   },
   "outputs": [
    {
     "data": {
      "text/plain": [
       "userId    object\n",
       "index      int64\n",
       "dtype: object"
      ]
     },
     "execution_count": 11,
     "metadata": {},
     "output_type": "execute_result"
    }
   ],
   "source": [
    "ind.dtypes"
   ]
  },
  {
   "cell_type": "code",
   "execution_count": 66,
   "id": "748f0cb8-78c1-4c49-a720-c69566240361",
   "metadata": {
    "tags": []
   },
   "outputs": [],
   "source": [
    "data=data.merge(ind,left_on='userId',right_on='userId')\n",
    "data.drop(columns=['userId'],inplace=True)\n",
    "data.rename(columns={'index':'userId'},inplace=True)"
   ]
  },
  {
   "cell_type": "code",
   "execution_count": 67,
   "id": "17997672-2c82-4f08-a664-bbdb67f1f052",
   "metadata": {
    "tags": []
   },
   "outputs": [],
   "source": [
    "ind=pd.DataFrame(data.productId.unique())\n",
    "ind['index']=range(1, len(ind) + 1)\n",
    "ind.rename(columns={0:'productId'},inplace=True)\n",
    "\n",
    "\n",
    "data=data.merge(ind,left_on='productId',right_on='productId')\n",
    "data.drop(columns=['productId'],inplace=True)\n",
    "data.rename(columns={'index':'productId'},inplace=True)\n",
    "#data.join(ind,on='userId')"
   ]
  },
  {
   "cell_type": "code",
   "execution_count": 68,
   "id": "5ba67a17-64a1-4eff-aa57-67cbe685db24",
   "metadata": {},
   "outputs": [
    {
     "data": {
      "text/html": [
       "<div>\n",
       "<style scoped>\n",
       "    .dataframe tbody tr th:only-of-type {\n",
       "        vertical-align: middle;\n",
       "    }\n",
       "\n",
       "    .dataframe tbody tr th {\n",
       "        vertical-align: top;\n",
       "    }\n",
       "\n",
       "    .dataframe thead th {\n",
       "        text-align: right;\n",
       "    }\n",
       "</style>\n",
       "<table border=\"1\" class=\"dataframe\">\n",
       "  <thead>\n",
       "    <tr style=\"text-align: right;\">\n",
       "      <th></th>\n",
       "      <th>userId</th>\n",
       "      <th>productId</th>\n",
       "      <th>rating</th>\n",
       "      <th>timestamp</th>\n",
       "    </tr>\n",
       "  </thead>\n",
       "  <tbody>\n",
       "    <tr>\n",
       "      <th>0</th>\n",
       "      <td>1</td>\n",
       "      <td>1</td>\n",
       "      <td>5.0</td>\n",
       "      <td>956966400</td>\n",
       "    </tr>\n",
       "    <tr>\n",
       "      <th>1</th>\n",
       "      <td>2</td>\n",
       "      <td>1</td>\n",
       "      <td>5.0</td>\n",
       "      <td>961200000</td>\n",
       "    </tr>\n",
       "    <tr>\n",
       "      <th>2</th>\n",
       "      <td>4</td>\n",
       "      <td>1</td>\n",
       "      <td>1.0</td>\n",
       "      <td>965347200</td>\n",
       "    </tr>\n",
       "    <tr>\n",
       "      <th>3</th>\n",
       "      <td>6</td>\n",
       "      <td>1</td>\n",
       "      <td>4.0</td>\n",
       "      <td>994204800</td>\n",
       "    </tr>\n",
       "    <tr>\n",
       "      <th>4</th>\n",
       "      <td>7</td>\n",
       "      <td>1</td>\n",
       "      <td>5.0</td>\n",
       "      <td>1006387200</td>\n",
       "    </tr>\n",
       "    <tr>\n",
       "      <th>...</th>\n",
       "      <td>...</td>\n",
       "      <td>...</td>\n",
       "      <td>...</td>\n",
       "      <td>...</td>\n",
       "    </tr>\n",
       "    <tr>\n",
       "      <th>42936</th>\n",
       "      <td>1216</td>\n",
       "      <td>2263</td>\n",
       "      <td>5.0</td>\n",
       "      <td>1315785600</td>\n",
       "    </tr>\n",
       "    <tr>\n",
       "      <th>42937</th>\n",
       "      <td>1246</td>\n",
       "      <td>2263</td>\n",
       "      <td>4.0</td>\n",
       "      <td>1341792000</td>\n",
       "    </tr>\n",
       "    <tr>\n",
       "      <th>42938</th>\n",
       "      <td>1301</td>\n",
       "      <td>2263</td>\n",
       "      <td>2.0</td>\n",
       "      <td>1338076800</td>\n",
       "    </tr>\n",
       "    <tr>\n",
       "      <th>42939</th>\n",
       "      <td>1346</td>\n",
       "      <td>2263</td>\n",
       "      <td>5.0</td>\n",
       "      <td>1339027200</td>\n",
       "    </tr>\n",
       "    <tr>\n",
       "      <th>42940</th>\n",
       "      <td>1404</td>\n",
       "      <td>2263</td>\n",
       "      <td>5.0</td>\n",
       "      <td>1355097600</td>\n",
       "    </tr>\n",
       "  </tbody>\n",
       "</table>\n",
       "<p>42941 rows × 4 columns</p>\n",
       "</div>"
      ],
      "text/plain": [
       "       userId  productId  rating   timestamp\n",
       "0           1          1     5.0   956966400\n",
       "1           2          1     5.0   961200000\n",
       "2           4          1     1.0   965347200\n",
       "3           6          1     4.0   994204800\n",
       "4           7          1     5.0  1006387200\n",
       "...       ...        ...     ...         ...\n",
       "42936    1216       2263     5.0  1315785600\n",
       "42937    1246       2263     4.0  1341792000\n",
       "42938    1301       2263     2.0  1338076800\n",
       "42939    1346       2263     5.0  1339027200\n",
       "42940    1404       2263     5.0  1355097600\n",
       "\n",
       "[42941 rows x 4 columns]"
      ]
     },
     "execution_count": 68,
     "metadata": {},
     "output_type": "execute_result"
    }
   ],
   "source": [
    "data=data[['userId','productId','rating','timestamp']]\n",
    "data"
   ]
  },
  {
   "cell_type": "code",
   "execution_count": 69,
   "id": "bb8b9843-b7b6-4da5-bc92-98b169eda45e",
   "metadata": {
    "tags": []
   },
   "outputs": [
    {
     "data": {
      "text/html": [
       "<div>\n",
       "<style scoped>\n",
       "    .dataframe tbody tr th:only-of-type {\n",
       "        vertical-align: middle;\n",
       "    }\n",
       "\n",
       "    .dataframe tbody tr th {\n",
       "        vertical-align: top;\n",
       "    }\n",
       "\n",
       "    .dataframe thead th {\n",
       "        text-align: right;\n",
       "    }\n",
       "</style>\n",
       "<table border=\"1\" class=\"dataframe\">\n",
       "  <thead>\n",
       "    <tr style=\"text-align: right;\">\n",
       "      <th></th>\n",
       "      <th>userId</th>\n",
       "      <th>productId</th>\n",
       "      <th>rating</th>\n",
       "      <th>timestamp</th>\n",
       "    </tr>\n",
       "  </thead>\n",
       "  <tbody>\n",
       "    <tr>\n",
       "      <th>0</th>\n",
       "      <td>1</td>\n",
       "      <td>1</td>\n",
       "      <td>5.0</td>\n",
       "      <td>956966400</td>\n",
       "    </tr>\n",
       "    <tr>\n",
       "      <th>1</th>\n",
       "      <td>2</td>\n",
       "      <td>1</td>\n",
       "      <td>5.0</td>\n",
       "      <td>961200000</td>\n",
       "    </tr>\n",
       "    <tr>\n",
       "      <th>2</th>\n",
       "      <td>4</td>\n",
       "      <td>1</td>\n",
       "      <td>1.0</td>\n",
       "      <td>965347200</td>\n",
       "    </tr>\n",
       "    <tr>\n",
       "      <th>3</th>\n",
       "      <td>6</td>\n",
       "      <td>1</td>\n",
       "      <td>4.0</td>\n",
       "      <td>994204800</td>\n",
       "    </tr>\n",
       "    <tr>\n",
       "      <th>4</th>\n",
       "      <td>7</td>\n",
       "      <td>1</td>\n",
       "      <td>5.0</td>\n",
       "      <td>1006387200</td>\n",
       "    </tr>\n",
       "  </tbody>\n",
       "</table>\n",
       "</div>"
      ],
      "text/plain": [
       "   userId  productId  rating   timestamp\n",
       "0       1          1     5.0   956966400\n",
       "1       2          1     5.0   961200000\n",
       "2       4          1     1.0   965347200\n",
       "3       6          1     4.0   994204800\n",
       "4       7          1     5.0  1006387200"
      ]
     },
     "execution_count": 69,
     "metadata": {},
     "output_type": "execute_result"
    }
   ],
   "source": [
    "data = data.apply(lambda x: x.str.strip() if x.dtype == \"object\" else x)\n",
    "\n",
    "data.head()"
   ]
  },
  {
   "cell_type": "code",
   "execution_count": 70,
   "id": "7a1ff264-bffe-4d75-b941-297f6eb617f0",
   "metadata": {
    "tags": []
   },
   "outputs": [
    {
     "name": "stdout",
     "output_type": "stream",
     "text": [
      "Total Number of rows : 42941\n",
      "Total Number of columns : 4\n",
      "userId         int64\n",
      "productId      int64\n",
      "rating       float64\n",
      "timestamp      int64\n",
      "dtype: object\n"
     ]
    }
   ],
   "source": [
    "rows_count, columns_count = data.shape\n",
    "print('Total Number of rows :', rows_count)\n",
    "print('Total Number of columns :', columns_count)\n",
    "print(data.dtypes)"
   ]
  },
  {
   "cell_type": "code",
   "execution_count": 71,
   "id": "bccbf6ea-9b27-48dd-926d-c3611b9cd50a",
   "metadata": {
    "tags": []
   },
   "outputs": [
    {
     "name": "stdout",
     "output_type": "stream",
     "text": [
      "Total number of unique Users    :  1532\n",
      "Total number of unique Products :  2263\n"
     ]
    }
   ],
   "source": [
    "unique_userId = data['userId'].nunique()\n",
    "unique_productId = data['productId'].nunique()\n",
    "print('Total number of unique Users    : ', unique_userId)\n",
    "print('Total number of unique Products : ', unique_productId)"
   ]
  },
  {
   "cell_type": "code",
   "execution_count": 72,
   "id": "eed2c89d-68fb-4d5b-b3e5-23fcc8de2473",
   "metadata": {
    "tags": []
   },
   "outputs": [],
   "source": [
    "RANK = 10\n",
    "MAX_ITER = 15\n",
    "REG_PARAM = 0.05\n",
    "K = 5\n",
    "#hyperparameters for us to vary"
   ]
  },
  {
   "cell_type": "code",
   "execution_count": 73,
   "id": "e0c03fdd-8cb7-445d-a1e3-2a522e7a205f",
   "metadata": {
    "tags": []
   },
   "outputs": [],
   "source": [
    "spark = start_or_get_spark(\"ALS Deep Dive\", memory=\"16g\")\n",
    "spark.conf.set(\"spark.sql.analyzer.failAmbiguousSelfJoin\", \"false\")"
   ]
  },
  {
   "cell_type": "code",
   "execution_count": 83,
   "id": "70992c61-ff5a-4290-9774-690026c08d0b",
   "metadata": {
    "tags": []
   },
   "outputs": [],
   "source": [
    "data.sort_values(by=['timestamp'],inplace=True)"
   ]
  },
  {
   "cell_type": "code",
   "execution_count": 85,
   "id": "3c1a58cf-8a7f-43a3-9b9f-b300cf89b5ac",
   "metadata": {
    "tags": []
   },
   "outputs": [
    {
     "name": "stdout",
     "output_type": "stream",
     "text": [
      "21470.5\n"
     ]
    },
    {
     "data": {
      "text/html": [
       "<div>\n",
       "<style scoped>\n",
       "    .dataframe tbody tr th:only-of-type {\n",
       "        vertical-align: middle;\n",
       "    }\n",
       "\n",
       "    .dataframe tbody tr th {\n",
       "        vertical-align: top;\n",
       "    }\n",
       "\n",
       "    .dataframe thead th {\n",
       "        text-align: right;\n",
       "    }\n",
       "</style>\n",
       "<table border=\"1\" class=\"dataframe\">\n",
       "  <thead>\n",
       "    <tr style=\"text-align: right;\">\n",
       "      <th></th>\n",
       "      <th>userId</th>\n",
       "      <th>productId</th>\n",
       "      <th>rating</th>\n",
       "      <th>timestamp</th>\n",
       "    </tr>\n",
       "  </thead>\n",
       "  <tbody>\n",
       "    <tr>\n",
       "      <th>0</th>\n",
       "      <td>1</td>\n",
       "      <td>1</td>\n",
       "      <td>5.0</td>\n",
       "      <td>956966400</td>\n",
       "    </tr>\n",
       "    <tr>\n",
       "      <th>1</th>\n",
       "      <td>2</td>\n",
       "      <td>1</td>\n",
       "      <td>5.0</td>\n",
       "      <td>961200000</td>\n",
       "    </tr>\n",
       "    <tr>\n",
       "      <th>2435</th>\n",
       "      <td>3</td>\n",
       "      <td>75</td>\n",
       "      <td>4.0</td>\n",
       "      <td>962236800</td>\n",
       "    </tr>\n",
       "    <tr>\n",
       "      <th>2</th>\n",
       "      <td>4</td>\n",
       "      <td>1</td>\n",
       "      <td>1.0</td>\n",
       "      <td>965347200</td>\n",
       "    </tr>\n",
       "    <tr>\n",
       "      <th>2436</th>\n",
       "      <td>5</td>\n",
       "      <td>75</td>\n",
       "      <td>3.0</td>\n",
       "      <td>966988800</td>\n",
       "    </tr>\n",
       "    <tr>\n",
       "      <th>...</th>\n",
       "      <td>...</td>\n",
       "      <td>...</td>\n",
       "      <td>...</td>\n",
       "      <td>...</td>\n",
       "    </tr>\n",
       "    <tr>\n",
       "      <th>35335</th>\n",
       "      <td>137</td>\n",
       "      <td>1714</td>\n",
       "      <td>4.0</td>\n",
       "      <td>1405987200</td>\n",
       "    </tr>\n",
       "    <tr>\n",
       "      <th>13617</th>\n",
       "      <td>683</td>\n",
       "      <td>532</td>\n",
       "      <td>4.0</td>\n",
       "      <td>1405987200</td>\n",
       "    </tr>\n",
       "    <tr>\n",
       "      <th>31609</th>\n",
       "      <td>159</td>\n",
       "      <td>1488</td>\n",
       "      <td>4.0</td>\n",
       "      <td>1405987200</td>\n",
       "    </tr>\n",
       "    <tr>\n",
       "      <th>35338</th>\n",
       "      <td>284</td>\n",
       "      <td>1714</td>\n",
       "      <td>1.0</td>\n",
       "      <td>1405987200</td>\n",
       "    </tr>\n",
       "    <tr>\n",
       "      <th>23553</th>\n",
       "      <td>885</td>\n",
       "      <td>1034</td>\n",
       "      <td>4.0</td>\n",
       "      <td>1406073600</td>\n",
       "    </tr>\n",
       "  </tbody>\n",
       "</table>\n",
       "<p>42941 rows × 4 columns</p>\n",
       "</div>"
      ],
      "text/plain": [
       "       userId  productId  rating   timestamp\n",
       "0           1          1     5.0   956966400\n",
       "1           2          1     5.0   961200000\n",
       "2435        3         75     4.0   962236800\n",
       "2           4          1     1.0   965347200\n",
       "2436        5         75     3.0   966988800\n",
       "...       ...        ...     ...         ...\n",
       "35335     137       1714     4.0  1405987200\n",
       "13617     683        532     4.0  1405987200\n",
       "31609     159       1488     4.0  1405987200\n",
       "35338     284       1714     1.0  1405987200\n",
       "23553     885       1034     4.0  1406073600\n",
       "\n",
       "[42941 rows x 4 columns]"
      ]
     },
     "execution_count": 85,
     "metadata": {},
     "output_type": "execute_result"
    }
   ],
   "source": [
    "print(len(data)/2)\n",
    "data[0:]"
   ]
  },
  {
   "cell_type": "code",
   "execution_count": 86,
   "id": "0e759b45-f97c-4d69-972a-edbd43b1b61f",
   "metadata": {
    "tags": []
   },
   "outputs": [],
   "source": [
    "from pyspark.sql import SQLContext\n",
    "from pyspark import SparkConf, SparkContext\n",
    "sc = SparkContext.getOrCreate()\n",
    "sqlContext = SQLContext(sc)\n",
    "#sc.stop()\n",
    "spark_df = sqlContext.createDataFrame(data)\n",
    "early_df=sqlContext.createDataFrame(data[0:21471])\n",
    "late_df=sqlContext.createDataFrame(data[21471:])\n",
    "#took like 3mins\n",
    "#on preprocessed takes a fewseconds"
   ]
  },
  {
   "cell_type": "code",
   "execution_count": 21,
   "id": "3dfd702e-771d-4a9b-b5c1-bdab04e5c20c",
   "metadata": {
    "tags": []
   },
   "outputs": [
    {
     "data": {
      "text/plain": [
       "0           1\n",
       "1           2\n",
       "2           3\n",
       "3           4\n",
       "4           5\n",
       "         ... \n",
       "42936    1123\n",
       "42937    1187\n",
       "42938    1236\n",
       "42939    1344\n",
       "42940    1439\n",
       "Name: userId, Length: 42941, dtype: int64"
      ]
     },
     "execution_count": 21,
     "metadata": {},
     "output_type": "execute_result"
    }
   ],
   "source": [
    "data['userId']"
   ]
  },
  {
   "cell_type": "code",
   "execution_count": 22,
   "id": "fa13d268-1087-4525-b829-9cfc272fdc8b",
   "metadata": {
    "tags": []
   },
   "outputs": [
    {
     "name": "stderr",
     "output_type": "stream",
     "text": [
      "[Stage 0:>                                                          (0 + 1) / 1]\r"
     ]
    },
    {
     "name": "stdout",
     "output_type": "stream",
     "text": [
      "+------+---------+------+----------+\n",
      "|userId|productId|rating| timestamp|\n",
      "+------+---------+------+----------+\n",
      "|     1|        1|   5.0|1369872000|\n",
      "|     2|        1|   5.0|1147305600|\n",
      "|     3|        1|   4.0|1358553600|\n",
      "|     4|        1|   4.0|1201132800|\n",
      "|     5|        1|   5.0|1331856000|\n",
      "+------+---------+------+----------+\n",
      "only showing top 5 rows\n",
      "\n"
     ]
    },
    {
     "name": "stderr",
     "output_type": "stream",
     "text": [
      "                                                                                \r"
     ]
    }
   ],
   "source": [
    "spark_df.show(5)"
   ]
  },
  {
   "cell_type": "code",
   "execution_count": 23,
   "id": "5d11157a-aa79-4a43-9af4-9ed0d62f7953",
   "metadata": {
    "tags": []
   },
   "outputs": [],
   "source": [
    "train, test = spark_random_split(spark_df, ratio=0.70, seed=42)\n"
   ]
  },
  {
   "cell_type": "code",
   "execution_count": 24,
   "id": "ac4d81ef-9a10-47f4-b6f7-51aac943f65e",
   "metadata": {
    "tags": []
   },
   "outputs": [
    {
     "data": {
      "text/plain": [
       "userId         int64\n",
       "productId      int64\n",
       "rating       float64\n",
       "timestamp      int64\n",
       "dtype: object"
      ]
     },
     "execution_count": 24,
     "metadata": {},
     "output_type": "execute_result"
    }
   ],
   "source": [
    "data.dtypes"
   ]
  },
  {
   "cell_type": "code",
   "execution_count": 50,
   "id": "32515caf-0734-4e98-9a99-c263e974be3c",
   "metadata": {
    "tags": []
   },
   "outputs": [],
   "source": [
    "RANK = 7\n",
    "MAX_ITER = 15\n",
    "REG_PARAM = 0.3\n",
    "K = 5\n",
    "#hyperparameters for us to vary"
   ]
  },
  {
   "cell_type": "code",
   "execution_count": 51,
   "id": "8356ca5f-8875-4322-a94b-c1ac94b61230",
   "metadata": {
    "tags": []
   },
   "outputs": [],
   "source": [
    "COL_USER = \"userId\"\n",
    "COL_ITEM = \"productId\"\n",
    "COL_RATING = \"rating\"\n",
    "COL_PREDICTION = \"prediction\"\n",
    "COL_TIMESTAMP = \"Timestamp\"\n",
    "\n",
    "als = ALS(\n",
    "    maxIter=MAX_ITER, \n",
    "    rank=RANK,\n",
    "    regParam=REG_PARAM, \n",
    "    userCol=COL_USER, \n",
    "    itemCol=COL_ITEM, \n",
    "    ratingCol=COL_RATING, \n",
    "    coldStartStrategy=\"drop\"\n",
    ")\n",
    "\n",
    "model = als.fit(train)\n",
    "#filtered data is quick"
   ]
  },
  {
   "cell_type": "code",
   "execution_count": 52,
   "id": "2b6dab42-fe8b-4923-9566-5fe4dcc4eae9",
   "metadata": {
    "tags": []
   },
   "outputs": [],
   "source": [
    "pred = model.transform(test).drop(COL_RATING)\n"
   ]
  },
  {
   "cell_type": "code",
   "execution_count": 53,
   "id": "3d16b079-4a8a-4376-8491-004d1ac13cf5",
   "metadata": {},
   "outputs": [
    {
     "name": "stdout",
     "output_type": "stream",
     "text": [
      "RMSE score = 0.9604767298667812\n",
      "MAE score = 0.7651449404008703\n",
      "R2 score = 0.018385239730794534\n",
      "Explained variance score = 0.14577623178844934\n"
     ]
    }
   ],
   "source": [
    "evaluations = SparkRatingEvaluation(\n",
    "    test, \n",
    "    pred,\n",
    "    col_user=COL_USER,\n",
    "    col_item=COL_ITEM,\n",
    "    col_rating=COL_RATING,\n",
    "    col_prediction=COL_PREDICTION\n",
    ")\n",
    "\n",
    "print(\n",
    "    \"RMSE score = {}\".format(evaluations.rmse()),\n",
    "    \"MAE score = {}\".format(evaluations.mae()),\n",
    "    \"R2 score = {}\".format(evaluations.rsquared()),\n",
    "    \"Explained variance score = {}\".format(evaluations.exp_var()),\n",
    "    sep=\"\\n\"\n",
    ")\n",
    "#takes about 10s\n",
    "#most filtered takes a couple secs"
   ]
  },
  {
   "cell_type": "code",
   "execution_count": 87,
   "id": "1c467300-9122-4b07-87df-4cec4e2924fc",
   "metadata": {
    "tags": []
   },
   "outputs": [],
   "source": [
    "train, test = spark_random_split(early_df, ratio=0.70, seed=42)\n"
   ]
  },
  {
   "cell_type": "code",
   "execution_count": 88,
   "id": "ef6f5f2f-b501-45ab-a1ee-722df6f295e6",
   "metadata": {
    "tags": []
   },
   "outputs": [
    {
     "data": {
      "text/plain": [
       "userId         int64\n",
       "productId      int64\n",
       "rating       float64\n",
       "timestamp      int64\n",
       "dtype: object"
      ]
     },
     "execution_count": 88,
     "metadata": {},
     "output_type": "execute_result"
    }
   ],
   "source": [
    "data.dtypes"
   ]
  },
  {
   "cell_type": "code",
   "execution_count": 89,
   "id": "46cd6c0d-a636-41a9-b0eb-4fac475abe71",
   "metadata": {
    "tags": []
   },
   "outputs": [],
   "source": [
    "RANK = 7\n",
    "MAX_ITER = 15\n",
    "REG_PARAM = 0.3\n",
    "K = 5\n",
    "#hyperparameters for us to vary"
   ]
  },
  {
   "cell_type": "code",
   "execution_count": 90,
   "id": "8015041e-7e87-482d-acb6-3b885f9217ef",
   "metadata": {
    "tags": []
   },
   "outputs": [],
   "source": [
    "COL_USER = \"userId\"\n",
    "COL_ITEM = \"productId\"\n",
    "COL_RATING = \"rating\"\n",
    "COL_PREDICTION = \"prediction\"\n",
    "COL_TIMESTAMP = \"Timestamp\"\n",
    "\n",
    "als = ALS(\n",
    "    maxIter=MAX_ITER, \n",
    "    rank=RANK,\n",
    "    regParam=REG_PARAM, \n",
    "    userCol=COL_USER, \n",
    "    itemCol=COL_ITEM, \n",
    "    ratingCol=COL_RATING, \n",
    "    coldStartStrategy=\"drop\"\n",
    ")\n",
    "\n",
    "model = als.fit(train)\n",
    "#filtered data is quick"
   ]
  },
  {
   "cell_type": "code",
   "execution_count": 91,
   "id": "54d8f65c-c3c4-4309-a3a5-7932e4265f27",
   "metadata": {
    "tags": []
   },
   "outputs": [],
   "source": [
    "pred = model.transform(test).drop(COL_RATING)\n"
   ]
  },
  {
   "cell_type": "code",
   "execution_count": 92,
   "id": "b9cdfe28-6008-4eec-a119-b2efbf281f2b",
   "metadata": {},
   "outputs": [
    {
     "name": "stdout",
     "output_type": "stream",
     "text": [
      "RMSE score = 1.06044221274028\n",
      "MAE score = 0.844911604745497\n",
      "R2 score = -0.10931751426135694\n",
      "Explained variance score = 0.06857826556558422\n"
     ]
    }
   ],
   "source": [
    "evaluations = SparkRatingEvaluation(\n",
    "    test, \n",
    "    pred,\n",
    "    col_user=COL_USER,\n",
    "    col_item=COL_ITEM,\n",
    "    col_rating=COL_RATING,\n",
    "    col_prediction=COL_PREDICTION\n",
    ")\n",
    "\n",
    "print(\n",
    "    \"RMSE score = {}\".format(evaluations.rmse()),\n",
    "    \"MAE score = {}\".format(evaluations.mae()),\n",
    "    \"R2 score = {}\".format(evaluations.rsquared()),\n",
    "    \"Explained variance score = {}\".format(evaluations.exp_var()),\n",
    "    sep=\"\\n\"\n",
    ")\n",
    "#takes about 10s\n",
    "#most filtered takes a couple secs"
   ]
  },
  {
   "cell_type": "code",
   "execution_count": 93,
   "id": "ea54a874-fc1d-4b8b-862e-7b3a06deac47",
   "metadata": {},
   "outputs": [
    {
     "name": "stdout",
     "output_type": "stream",
     "text": [
      "23/04/26 21:04:06 WARN Column: Constructing trivially true equals predicate, 'userId#6946L = userId#6946L'. Perhaps you need to use aliases.\n"
     ]
    },
    {
     "name": "stderr",
     "output_type": "stream",
     "text": [
      "[Stage 11056:>                                                      (0 + 1) / 1]\r"
     ]
    },
    {
     "name": "stdout",
     "output_type": "stream",
     "text": [
      "+------+---------+----------+\n",
      "|userId|productId|prediction|\n",
      "+------+---------+----------+\n",
      "|     1|        3|  4.279279|\n",
      "|     1|       17| 3.8900776|\n",
      "|     1|       27|  4.216029|\n",
      "|     1|       37| 4.0902247|\n",
      "|     1|       39| 4.4270906|\n",
      "|     1|       43|   4.16695|\n",
      "|     1|       49| 3.5657268|\n",
      "|     1|       80| 4.0793447|\n",
      "|     1|       84| 3.9148052|\n",
      "|     1|       88| 3.5722744|\n",
      "|     1|       94| 4.1551685|\n",
      "|     1|       96| 3.6293488|\n",
      "|     1|      109| 4.0294547|\n",
      "|     1|      116| 3.4008205|\n",
      "|     1|      117|  4.163725|\n",
      "|     1|      120| 3.5461385|\n",
      "|     1|      121|  4.203488|\n",
      "|     1|      122| 4.1429877|\n",
      "|     1|      138| 2.9892302|\n",
      "|     1|      146| 3.9662676|\n",
      "+------+---------+----------+\n",
      "only showing top 20 rows\n",
      "\n"
     ]
    },
    {
     "name": "stderr",
     "output_type": "stream",
     "text": [
      "                                                                                \r"
     ]
    }
   ],
   "source": [
    "users = train.select(COL_USER).distinct()\n",
    "items = train.select(COL_ITEM).distinct()\n",
    "user_item = users.crossJoin(items)\n",
    "pred = model.transform(user_item)\n",
    "\n",
    "# Remove seen items.\n",
    "dfs_pred_exclude_train = pred.alias(\"pred\").join(\n",
    "    train.alias(\"train\"),\n",
    "    (pred[COL_USER] == train[COL_USER]) & (pred[COL_ITEM] == train[COL_ITEM]),\n",
    "    how='outer'\n",
    ")\n",
    "\n",
    "dfs_pred_final = dfs_pred_exclude_train.filter(dfs_pred_exclude_train[\"train.Rating\"].isNull()) \\\n",
    "    .select('pred.' + COL_USER, 'pred.' + COL_ITEM, 'pred.' + \"prediction\")\n",
    "\n",
    "dfs_pred_final.show()\n",
    "#111s\n",
    "#most filtered data takes 10s"
   ]
  },
  {
   "cell_type": "code",
   "execution_count": 94,
   "id": "1ff903a7-e1b9-40d1-881f-8d7e7deae154",
   "metadata": {},
   "outputs": [
    {
     "name": "stderr",
     "output_type": "stream",
     "text": [
      "[Stage 11179:>                                                      (0 + 4) / 4]\r"
     ]
    },
    {
     "name": "stdout",
     "output_type": "stream",
     "text": [
      "Precision@k = 0.002280130293159609\n",
      "Recall@k = 0.002886193836926736\n",
      "NDCG@k = 0.0028941579665227256\n",
      "Mean average precision = 0.0011510117755028175\n"
     ]
    },
    {
     "name": "stderr",
     "output_type": "stream",
     "text": [
      "                                                                                \r"
     ]
    }
   ],
   "source": [
    "evaluations = SparkRankingEvaluation(\n",
    "    test, \n",
    "    dfs_pred_final,\n",
    "    col_user=COL_USER,\n",
    "    col_item=COL_ITEM,\n",
    "    col_rating=COL_RATING,\n",
    "    col_prediction=COL_PREDICTION,\n",
    "    k=K\n",
    ")\n",
    "\n",
    "print(\n",
    "    \"Precision@k = {}\".format(evaluations.precision_at_k()),\n",
    "    \"Recall@k = {}\".format(evaluations.recall_at_k()),\n",
    "    \"NDCG@k = {}\".format(evaluations.ndcg_at_k()),\n",
    "    \"Mean average precision = {}\".format(evaluations.map_at_k()),\n",
    "    sep=\"\\n\"\n",
    ")\n",
    "#most filtered data takes 25s?"
   ]
  },
  {
   "cell_type": "code",
   "execution_count": 95,
   "id": "466e64f7-fd47-4889-a3bb-e551660d2d61",
   "metadata": {
    "tags": []
   },
   "outputs": [],
   "source": [
    "train, test = spark_random_split(late_df, ratio=0.70, seed=42)\n"
   ]
  },
  {
   "cell_type": "code",
   "execution_count": 88,
   "id": "4ef1e5e6-4195-4b2b-8ef5-eb3f69f4b35a",
   "metadata": {
    "tags": []
   },
   "outputs": [
    {
     "data": {
      "text/plain": [
       "userId         int64\n",
       "productId      int64\n",
       "rating       float64\n",
       "timestamp      int64\n",
       "dtype: object"
      ]
     },
     "execution_count": 88,
     "metadata": {},
     "output_type": "execute_result"
    }
   ],
   "source": [
    "data.dtypes"
   ]
  },
  {
   "cell_type": "code",
   "execution_count": 96,
   "id": "7249823e-ca00-460e-95fd-b94b01b499ad",
   "metadata": {
    "tags": []
   },
   "outputs": [],
   "source": [
    "RANK = 7\n",
    "MAX_ITER = 15\n",
    "REG_PARAM = 0.3\n",
    "K = 5\n",
    "#hyperparameters for us to vary"
   ]
  },
  {
   "cell_type": "code",
   "execution_count": 97,
   "id": "779f25dd-4550-4cc1-b7ea-248621a40638",
   "metadata": {
    "tags": []
   },
   "outputs": [],
   "source": [
    "COL_USER = \"userId\"\n",
    "COL_ITEM = \"productId\"\n",
    "COL_RATING = \"rating\"\n",
    "COL_PREDICTION = \"prediction\"\n",
    "COL_TIMESTAMP = \"Timestamp\"\n",
    "\n",
    "als = ALS(\n",
    "    maxIter=MAX_ITER, \n",
    "    rank=RANK,\n",
    "    regParam=REG_PARAM, \n",
    "    userCol=COL_USER, \n",
    "    itemCol=COL_ITEM, \n",
    "    ratingCol=COL_RATING, \n",
    "    coldStartStrategy=\"drop\"\n",
    ")\n",
    "\n",
    "model = als.fit(train)\n",
    "#filtered data is quick"
   ]
  },
  {
   "cell_type": "code",
   "execution_count": 98,
   "id": "02e5279b-454b-48de-978a-d898eeed350f",
   "metadata": {
    "tags": []
   },
   "outputs": [],
   "source": [
    "pred = model.transform(test).drop(COL_RATING)\n"
   ]
  },
  {
   "cell_type": "code",
   "execution_count": 99,
   "id": "98b659a3-4dbf-4c86-b70d-f4168da45c1f",
   "metadata": {},
   "outputs": [
    {
     "name": "stdout",
     "output_type": "stream",
     "text": [
      "RMSE score = 0.9986790994344071\n",
      "MAE score = 0.7829635712330564\n",
      "R2 score = -0.18248053054187774\n",
      "Explained variance score = 0.023266038858856586\n"
     ]
    }
   ],
   "source": [
    "evaluations = SparkRatingEvaluation(\n",
    "    test, \n",
    "    pred,\n",
    "    col_user=COL_USER,\n",
    "    col_item=COL_ITEM,\n",
    "    col_rating=COL_RATING,\n",
    "    col_prediction=COL_PREDICTION\n",
    ")\n",
    "\n",
    "print(\n",
    "    \"RMSE score = {}\".format(evaluations.rmse()),\n",
    "    \"MAE score = {}\".format(evaluations.mae()),\n",
    "    \"R2 score = {}\".format(evaluations.rsquared()),\n",
    "    \"Explained variance score = {}\".format(evaluations.exp_var()),\n",
    "    sep=\"\\n\"\n",
    ")\n",
    "#takes about 10s\n",
    "#most filtered takes a couple secs"
   ]
  },
  {
   "cell_type": "code",
   "execution_count": 100,
   "id": "753cd83a-edf6-4994-9ce8-2664f523a991",
   "metadata": {},
   "outputs": [
    {
     "name": "stdout",
     "output_type": "stream",
     "text": [
      "23/04/26 21:05:44 WARN Column: Constructing trivially true equals predicate, 'userId#6954L = userId#6954L'. Perhaps you need to use aliases.\n"
     ]
    },
    {
     "name": "stderr",
     "output_type": "stream",
     "text": [
      "[Stage 11639:>                                                      (0 + 1) / 1]\r"
     ]
    },
    {
     "name": "stdout",
     "output_type": "stream",
     "text": [
      "+------+---------+----------+\n",
      "|userId|productId|prediction|\n",
      "+------+---------+----------+\n",
      "|     1|       17| 2.6369596|\n",
      "|     1|       20| 3.6579852|\n",
      "|     1|       37| 3.7338634|\n",
      "|     1|       39| 2.9417474|\n",
      "|     1|       43| 3.5094543|\n",
      "|     1|       49| 2.8262405|\n",
      "|     1|       51| 3.1690292|\n",
      "|     1|       52| 3.0907447|\n",
      "|     1|       53| 3.1463275|\n",
      "|     1|       60| 3.3820105|\n",
      "|     1|       66| 3.3194892|\n",
      "|     1|       94| 3.5455804|\n",
      "|     1|       96| 3.7134585|\n",
      "|     1|      107| 2.9630022|\n",
      "|     1|      113| 3.6081545|\n",
      "|     1|      117| 4.2287703|\n",
      "|     1|      120| 3.1734307|\n",
      "|     1|      121| 3.5135422|\n",
      "|     1|      138| 3.3681269|\n",
      "|     1|      146| 3.7781684|\n",
      "+------+---------+----------+\n",
      "only showing top 20 rows\n",
      "\n"
     ]
    },
    {
     "name": "stderr",
     "output_type": "stream",
     "text": [
      "                                                                                \r"
     ]
    }
   ],
   "source": [
    "users = train.select(COL_USER).distinct()\n",
    "items = train.select(COL_ITEM).distinct()\n",
    "user_item = users.crossJoin(items)\n",
    "pred = model.transform(user_item)\n",
    "\n",
    "# Remove seen items.\n",
    "dfs_pred_exclude_train = pred.alias(\"pred\").join(\n",
    "    train.alias(\"train\"),\n",
    "    (pred[COL_USER] == train[COL_USER]) & (pred[COL_ITEM] == train[COL_ITEM]),\n",
    "    how='outer'\n",
    ")\n",
    "\n",
    "dfs_pred_final = dfs_pred_exclude_train.filter(dfs_pred_exclude_train[\"train.Rating\"].isNull()) \\\n",
    "    .select('pred.' + COL_USER, 'pred.' + COL_ITEM, 'pred.' + \"prediction\")\n",
    "\n",
    "dfs_pred_final.show()\n",
    "#111s\n",
    "#most filtered data takes 10s"
   ]
  },
  {
   "cell_type": "code",
   "execution_count": 101,
   "id": "5e1569a1-f621-43c6-8f3a-00afa8a22fbf",
   "metadata": {},
   "outputs": [
    {
     "name": "stderr",
     "output_type": "stream",
     "text": [
      "[Stage 11762:>                                                      (0 + 4) / 4]\r"
     ]
    },
    {
     "name": "stdout",
     "output_type": "stream",
     "text": [
      "Precision@k = 0.0019801980198019807\n",
      "Recall@k = 0.003126246690603126\n",
      "NDCG@k = 0.0028578269398670487\n",
      "Mean average precision = 0.0015856544445653367\n"
     ]
    },
    {
     "name": "stderr",
     "output_type": "stream",
     "text": [
      "                                                                                \r"
     ]
    }
   ],
   "source": [
    "evaluations = SparkRankingEvaluation(\n",
    "    test, \n",
    "    dfs_pred_final,\n",
    "    col_user=COL_USER,\n",
    "    col_item=COL_ITEM,\n",
    "    col_rating=COL_RATING,\n",
    "    col_prediction=COL_PREDICTION,\n",
    "    k=K\n",
    ")\n",
    "\n",
    "print(\n",
    "    \"Precision@k = {}\".format(evaluations.precision_at_k()),\n",
    "    \"Recall@k = {}\".format(evaluations.recall_at_k()),\n",
    "    \"NDCG@k = {}\".format(evaluations.ndcg_at_k()),\n",
    "    \"Mean average precision = {}\".format(evaluations.map_at_k()),\n",
    "    sep=\"\\n\"\n",
    ")\n",
    "#most filtered data takes 25s?"
   ]
  },
  {
   "cell_type": "code",
   "execution_count": 36,
   "id": "5f1a7114-3f90-4a46-90cf-05e7ce3a3445",
   "metadata": {},
   "outputs": [],
   "source": [
    "param_dict = {\n",
    "    \"rank\": [7, 10, 15],\n",
    "    \"regParam\": [0.2, 0.3,0.4,0.5]\n",
    "}\n",
    "param_grid = generate_param_grid(param_dict)"
   ]
  },
  {
   "cell_type": "code",
   "execution_count": 37,
   "id": "0c2002f1-dcb3-4800-bbc5-12bf76f1b4c9",
   "metadata": {
    "tags": []
   },
   "outputs": [
    {
     "data": {
      "text/plain": [
       "[{'rank': 7, 'regParam': 0.2},\n",
       " {'rank': 7, 'regParam': 0.3},\n",
       " {'rank': 7, 'regParam': 0.4},\n",
       " {'rank': 7, 'regParam': 0.5},\n",
       " {'rank': 10, 'regParam': 0.2},\n",
       " {'rank': 10, 'regParam': 0.3},\n",
       " {'rank': 10, 'regParam': 0.4},\n",
       " {'rank': 10, 'regParam': 0.5},\n",
       " {'rank': 15, 'regParam': 0.2},\n",
       " {'rank': 15, 'regParam': 0.3},\n",
       " {'rank': 15, 'regParam': 0.4},\n",
       " {'rank': 15, 'regParam': 0.5}]"
      ]
     },
     "execution_count": 37,
     "metadata": {},
     "output_type": "execute_result"
    }
   ],
   "source": [
    "param_grid"
   ]
  },
  {
   "cell_type": "code",
   "execution_count": 42,
   "id": "5612af09-cbbc-4194-91ff-d945c4e0d358",
   "metadata": {},
   "outputs": [
    {
     "name": "stdout",
     "output_type": "stream",
     "text": [
      "0.9691246881863134\n",
      "{'rank': 7, 'regParam': 0.2}\n",
      "0.9604767298667812\n",
      "{'rank': 7, 'regParam': 0.3}\n",
      "0.9770041330057792\n",
      "{'rank': 7, 'regParam': 0.4}\n",
      "1.0115384312384261\n",
      "{'rank': 7, 'regParam': 0.5}\n",
      "0.969708559537053\n",
      "{'rank': 10, 'regParam': 0.2}\n",
      "0.9635078202743756\n",
      "{'rank': 10, 'regParam': 0.3}\n",
      "0.9786490555824905\n",
      "{'rank': 10, 'regParam': 0.4}\n",
      "1.0120375615724755\n",
      "{'rank': 10, 'regParam': 0.5}\n",
      "0.9697924246608782\n",
      "{'rank': 15, 'regParam': 0.2}\n",
      "0.9630201879601222\n",
      "{'rank': 15, 'regParam': 0.3}\n",
      "0.9780508913288684\n",
      "{'rank': 15, 'regParam': 0.4}\n",
      "1.0118398308267131\n",
      "{'rank': 15, 'regParam': 0.5}\n"
     ]
    }
   ],
   "source": [
    "rmse_score = []\n",
    "\n",
    "for g in param_grid:\n",
    "    als = ALS(        \n",
    "        maxIter=MAX_ITER,\n",
    "        userCol=COL_USER, \n",
    "        itemCol=COL_ITEM, \n",
    "        ratingCol=COL_RATING, \n",
    "        coldStartStrategy=\"drop\",\n",
    "        **g\n",
    "    )\n",
    "    \n",
    "    model = als.fit(train)\n",
    "    \n",
    "    pred = model.transform(test).drop(COL_RATING)\n",
    "    \n",
    "    evaluations = SparkRatingEvaluation(\n",
    "        test, \n",
    "        pred,\n",
    "        col_user=COL_USER,\n",
    "        col_item=COL_ITEM,\n",
    "        col_rating=COL_RATING,\n",
    "        col_prediction=COL_PREDICTION\n",
    "    )\n",
    "    print(evaluations.rmse())\n",
    "    print(g)\n",
    "    rmse_score.append(evaluations.rmse())\n",
    "\n",
    "rmse_score = [float('%.4f' % x) for x in rmse_score]\n",
    "rmse_score_array = np.reshape(rmse_score, (len(param_dict[\"rank\"]), len(param_dict[\"regParam\"]))) \n",
    "#most filtered data takes 90s"
   ]
  },
  {
   "cell_type": "code",
   "execution_count": 44,
   "id": "79fa7929-03d0-4bb6-b101-9dd133eeffc7",
   "metadata": {},
   "outputs": [],
   "source": [
    "rmse_df = pd.DataFrame(data=rmse_score_array, index=pd.Index(param_dict[\"rank\"], name=\"rank\"), \n",
    "                       columns=pd.Index(param_dict[\"regParam\"], name=\"reg. parameter\"))"
   ]
  },
  {
   "cell_type": "code",
   "execution_count": 45,
   "id": "acbe551c-f55e-4c34-a93d-6432acd8206e",
   "metadata": {},
   "outputs": [
    {
     "data": {
      "text/plain": [
       "<AxesSubplot:xlabel='reg. parameter', ylabel='rank'>"
      ]
     },
     "execution_count": 45,
     "metadata": {},
     "output_type": "execute_result"
    },
    {
     "data": {
      "image/png": "[encoded data removed]",
      "text/plain": [
       "<Figure size 640x480 with 1 Axes>"
      ]
     },
     "metadata": {},
     "output_type": "display_data"
    }
   ],
   "source": [
    "fig, ax = plt.subplots()\n",
    "sns.heatmap(rmse_df, cbar=False, annot=True, fmt=\".4g\")"
   ]
  }
 ],
 "metadata": {
  "kernelspec": {
   "display_name": "conda_pytorch_p39",
   "language": "python",
   "name": "conda_pytorch_p39"
  },
  "language_info": {
   "codemirror_mode": {
    "name": "ipython",
    "version": 3
   },
   "file_extension": ".py",
   "mimetype": "text/x-python",
   "name": "python",
   "nbconvert_exporter": "python",
   "pygments_lexer": "ipython3",
   "version": "3.9.15"
  }
 },
 "nbformat": 4,
 "nbformat_minor": 5
}
